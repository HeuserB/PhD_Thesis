{
 "cells": [
  {
   "cell_type": "code",
   "execution_count": 39,
   "metadata": {},
   "outputs": [],
   "source": [
    "import re\n",
    "import numpy as np\n",
    "import os"
   ]
  },
  {
   "cell_type": "code",
   "execution_count": 68,
   "metadata": {},
   "outputs": [],
   "source": [
    "def list_files(directory, extension):\n",
    "    all_files       = list()\n",
    "    all_dirs        = list()\n",
    "    files_list      = list()   \n",
    "    # Iterate for each dict object in os.walk()\n",
    "    for root, dirs, files in os.walk(directory):\n",
    "        for file in files:\n",
    "            if file.endswith(extension):\n",
    "                files_list.append(os.path.join(root, file))\n",
    "                print(file)\n",
    "\n",
    "    return files_list"
   ]
  },
  {
   "cell_type": "code",
   "execution_count": null,
   "metadata": {},
   "outputs": [],
   "source": [
    "def merge_logfiles(basedir):\n",
    "    files                       = list_files(basedir,'.log')"
   ]
  },
  {
   "cell_type": "code",
   "execution_count": 71,
   "metadata": {},
   "outputs": [
    {
     "name": "stdout",
     "output_type": "stream",
     "text": [
      "4000K_8x8x8_300ns.log\n",
      "3000K_8x8x8_50ns.log\n",
      "2000K_8x8x8_200ns.log\n",
      "4000K_8x8x8_200ns.log\n",
      "2000K_8x8x8_200ns_restart.log\n",
      "2000K_8x8x8_50ns_restart.log\n",
      "5000K_8x8x8_300ns.log\n",
      "3000K_8x8x8_100ns.log\n",
      "5000K_8x8x8_200ns.log\n",
      "3000K_8x8x8_100ns_restart.log\n",
      "2000K_8x8x8_100ns_restart.log\n",
      "5000K_8x8x8_100ns.log\n",
      "2000K_8x8x8_300ns_restart.log\n",
      "3000K_8x8x8_200ns.log\n",
      "3000K_8x8x8_200ns_restart.log\n",
      "5000K_8x8x8_50ns.log\n",
      "4000K_8x8x8_100ns.log\n",
      "2000K_8x8x8_100ns.log\n",
      "2000K_8x8x8_50ns.log\n",
      "2000K_8x8x8_300ns.log\n",
      "4000K_8x8x8_50ns.log\n",
      "3000K_8x8x8_300ns.log\n",
      "4000K_8x8x8_300ns.log\n",
      "3000K_8x8x8_50ns.log\n",
      "2000K_8x8x8_200ns.log\n",
      "4000K_8x8x8_200ns.log\n",
      "5000K_8x8x8_300ns.log\n",
      "3000K_8x8x8_100ns.log\n",
      "5000K_8x8x8_200ns.log\n",
      "5000K_8x8x8_100ns.log\n",
      "3000K_8x8x8_200ns.log\n",
      "5000K_8x8x8_50ns.log\n",
      "4000K_8x8x8_100ns.log\n",
      "2000K_8x8x8_100ns.log\n",
      "2000K_8x8x8_50ns.log\n",
      "2000K_8x8x8_300ns.log\n",
      "4000K_8x8x8_50ns.log\n",
      "3000K_8x8x8_300ns.log\n",
      "4000K_8x8x8_300ns.log\n",
      "3000K_8x8x8_50ns.log\n",
      "2000K_8x8x8_200ns.log\n",
      "4000K_8x8x8_200ns.log\n",
      "5000K_8x8x8_300ns.log\n",
      "3000K_8x8x8_100ns.log\n",
      "5000K_8x8x8_200ns.log\n",
      "5000K_8x8x8_100ns.log\n",
      "3000K_8x8x8_200ns.log\n",
      "5000K_8x8x8_50ns.log\n",
      "4000K_8x8x8_100ns.log\n",
      "2000K_8x8x8_100ns.log\n",
      "2000K_8x8x8_50ns.log\n",
      "2000K_8x8x8_300ns.log\n",
      "4000K_8x8x8_50ns.log\n",
      "3000K_8x8x8_300ns.log\n"
     ]
    }
   ],
   "source": [
    "basedir                     =   '/media/benjamin/BenDrive/Nextcloud/Work/W_PhD/W_PhD_Analysis/Simulations/LAMMPS/strain_expansion/edip/'\n",
    "files                       = list_files(basedir,'.log')"
   ]
  },
  {
   "cell_type": "code",
   "execution_count": 72,
   "metadata": {},
   "outputs": [
    {
     "data": {
      "text/plain": [
       "['/media/benjamin/BenDrive/Nextcloud/Work/W_PhD/W_PhD_Analysis/Simulations/LAMMPS/strain_expansion/edip/grid_3_25/4000K_8x8x8_300ns.log',\n",
       " '/media/benjamin/BenDrive/Nextcloud/Work/W_PhD/W_PhD_Analysis/Simulations/LAMMPS/strain_expansion/edip/grid_3_25/3000K_8x8x8_50ns.log',\n",
       " '/media/benjamin/BenDrive/Nextcloud/Work/W_PhD/W_PhD_Analysis/Simulations/LAMMPS/strain_expansion/edip/grid_3_25/2000K_8x8x8_200ns.log',\n",
       " '/media/benjamin/BenDrive/Nextcloud/Work/W_PhD/W_PhD_Analysis/Simulations/LAMMPS/strain_expansion/edip/grid_3_25/4000K_8x8x8_200ns.log',\n",
       " '/media/benjamin/BenDrive/Nextcloud/Work/W_PhD/W_PhD_Analysis/Simulations/LAMMPS/strain_expansion/edip/grid_3_25/2000K_8x8x8_200ns_restart.log',\n",
       " '/media/benjamin/BenDrive/Nextcloud/Work/W_PhD/W_PhD_Analysis/Simulations/LAMMPS/strain_expansion/edip/grid_3_25/2000K_8x8x8_50ns_restart.log',\n",
       " '/media/benjamin/BenDrive/Nextcloud/Work/W_PhD/W_PhD_Analysis/Simulations/LAMMPS/strain_expansion/edip/grid_3_25/5000K_8x8x8_300ns.log',\n",
       " '/media/benjamin/BenDrive/Nextcloud/Work/W_PhD/W_PhD_Analysis/Simulations/LAMMPS/strain_expansion/edip/grid_3_25/3000K_8x8x8_100ns.log',\n",
       " '/media/benjamin/BenDrive/Nextcloud/Work/W_PhD/W_PhD_Analysis/Simulations/LAMMPS/strain_expansion/edip/grid_3_25/5000K_8x8x8_200ns.log',\n",
       " '/media/benjamin/BenDrive/Nextcloud/Work/W_PhD/W_PhD_Analysis/Simulations/LAMMPS/strain_expansion/edip/grid_3_25/3000K_8x8x8_100ns_restart.log',\n",
       " '/media/benjamin/BenDrive/Nextcloud/Work/W_PhD/W_PhD_Analysis/Simulations/LAMMPS/strain_expansion/edip/grid_3_25/2000K_8x8x8_100ns_restart.log',\n",
       " '/media/benjamin/BenDrive/Nextcloud/Work/W_PhD/W_PhD_Analysis/Simulations/LAMMPS/strain_expansion/edip/grid_3_25/5000K_8x8x8_100ns.log',\n",
       " '/media/benjamin/BenDrive/Nextcloud/Work/W_PhD/W_PhD_Analysis/Simulations/LAMMPS/strain_expansion/edip/grid_3_25/2000K_8x8x8_300ns_restart.log',\n",
       " '/media/benjamin/BenDrive/Nextcloud/Work/W_PhD/W_PhD_Analysis/Simulations/LAMMPS/strain_expansion/edip/grid_3_25/3000K_8x8x8_200ns.log',\n",
       " '/media/benjamin/BenDrive/Nextcloud/Work/W_PhD/W_PhD_Analysis/Simulations/LAMMPS/strain_expansion/edip/grid_3_25/3000K_8x8x8_200ns_restart.log',\n",
       " '/media/benjamin/BenDrive/Nextcloud/Work/W_PhD/W_PhD_Analysis/Simulations/LAMMPS/strain_expansion/edip/grid_3_25/5000K_8x8x8_50ns.log',\n",
       " '/media/benjamin/BenDrive/Nextcloud/Work/W_PhD/W_PhD_Analysis/Simulations/LAMMPS/strain_expansion/edip/grid_3_25/4000K_8x8x8_100ns.log',\n",
       " '/media/benjamin/BenDrive/Nextcloud/Work/W_PhD/W_PhD_Analysis/Simulations/LAMMPS/strain_expansion/edip/grid_3_25/2000K_8x8x8_100ns.log',\n",
       " '/media/benjamin/BenDrive/Nextcloud/Work/W_PhD/W_PhD_Analysis/Simulations/LAMMPS/strain_expansion/edip/grid_3_25/2000K_8x8x8_50ns.log',\n",
       " '/media/benjamin/BenDrive/Nextcloud/Work/W_PhD/W_PhD_Analysis/Simulations/LAMMPS/strain_expansion/edip/grid_3_25/2000K_8x8x8_300ns.log',\n",
       " '/media/benjamin/BenDrive/Nextcloud/Work/W_PhD/W_PhD_Analysis/Simulations/LAMMPS/strain_expansion/edip/grid_3_25/4000K_8x8x8_50ns.log',\n",
       " '/media/benjamin/BenDrive/Nextcloud/Work/W_PhD/W_PhD_Analysis/Simulations/LAMMPS/strain_expansion/edip/grid_3_25/3000K_8x8x8_300ns.log',\n",
       " '/media/benjamin/BenDrive/Nextcloud/Work/W_PhD/W_PhD_Analysis/Simulations/LAMMPS/strain_expansion/edip/grid_3_35/4000K_8x8x8_300ns.log',\n",
       " '/media/benjamin/BenDrive/Nextcloud/Work/W_PhD/W_PhD_Analysis/Simulations/LAMMPS/strain_expansion/edip/grid_3_35/3000K_8x8x8_50ns.log',\n",
       " '/media/benjamin/BenDrive/Nextcloud/Work/W_PhD/W_PhD_Analysis/Simulations/LAMMPS/strain_expansion/edip/grid_3_35/2000K_8x8x8_200ns.log',\n",
       " '/media/benjamin/BenDrive/Nextcloud/Work/W_PhD/W_PhD_Analysis/Simulations/LAMMPS/strain_expansion/edip/grid_3_35/4000K_8x8x8_200ns.log',\n",
       " '/media/benjamin/BenDrive/Nextcloud/Work/W_PhD/W_PhD_Analysis/Simulations/LAMMPS/strain_expansion/edip/grid_3_35/5000K_8x8x8_300ns.log',\n",
       " '/media/benjamin/BenDrive/Nextcloud/Work/W_PhD/W_PhD_Analysis/Simulations/LAMMPS/strain_expansion/edip/grid_3_35/3000K_8x8x8_100ns.log',\n",
       " '/media/benjamin/BenDrive/Nextcloud/Work/W_PhD/W_PhD_Analysis/Simulations/LAMMPS/strain_expansion/edip/grid_3_35/5000K_8x8x8_200ns.log',\n",
       " '/media/benjamin/BenDrive/Nextcloud/Work/W_PhD/W_PhD_Analysis/Simulations/LAMMPS/strain_expansion/edip/grid_3_35/5000K_8x8x8_100ns.log',\n",
       " '/media/benjamin/BenDrive/Nextcloud/Work/W_PhD/W_PhD_Analysis/Simulations/LAMMPS/strain_expansion/edip/grid_3_35/3000K_8x8x8_200ns.log',\n",
       " '/media/benjamin/BenDrive/Nextcloud/Work/W_PhD/W_PhD_Analysis/Simulations/LAMMPS/strain_expansion/edip/grid_3_35/5000K_8x8x8_50ns.log',\n",
       " '/media/benjamin/BenDrive/Nextcloud/Work/W_PhD/W_PhD_Analysis/Simulations/LAMMPS/strain_expansion/edip/grid_3_35/4000K_8x8x8_100ns.log',\n",
       " '/media/benjamin/BenDrive/Nextcloud/Work/W_PhD/W_PhD_Analysis/Simulations/LAMMPS/strain_expansion/edip/grid_3_35/2000K_8x8x8_100ns.log',\n",
       " '/media/benjamin/BenDrive/Nextcloud/Work/W_PhD/W_PhD_Analysis/Simulations/LAMMPS/strain_expansion/edip/grid_3_35/2000K_8x8x8_50ns.log',\n",
       " '/media/benjamin/BenDrive/Nextcloud/Work/W_PhD/W_PhD_Analysis/Simulations/LAMMPS/strain_expansion/edip/grid_3_35/2000K_8x8x8_300ns.log',\n",
       " '/media/benjamin/BenDrive/Nextcloud/Work/W_PhD/W_PhD_Analysis/Simulations/LAMMPS/strain_expansion/edip/grid_3_35/4000K_8x8x8_50ns.log',\n",
       " '/media/benjamin/BenDrive/Nextcloud/Work/W_PhD/W_PhD_Analysis/Simulations/LAMMPS/strain_expansion/edip/grid_3_35/3000K_8x8x8_300ns.log',\n",
       " '/media/benjamin/BenDrive/Nextcloud/Work/W_PhD/W_PhD_Analysis/Simulations/LAMMPS/strain_expansion/edip/grid_3_45/4000K_8x8x8_300ns.log',\n",
       " '/media/benjamin/BenDrive/Nextcloud/Work/W_PhD/W_PhD_Analysis/Simulations/LAMMPS/strain_expansion/edip/grid_3_45/3000K_8x8x8_50ns.log',\n",
       " '/media/benjamin/BenDrive/Nextcloud/Work/W_PhD/W_PhD_Analysis/Simulations/LAMMPS/strain_expansion/edip/grid_3_45/2000K_8x8x8_200ns.log',\n",
       " '/media/benjamin/BenDrive/Nextcloud/Work/W_PhD/W_PhD_Analysis/Simulations/LAMMPS/strain_expansion/edip/grid_3_45/4000K_8x8x8_200ns.log',\n",
       " '/media/benjamin/BenDrive/Nextcloud/Work/W_PhD/W_PhD_Analysis/Simulations/LAMMPS/strain_expansion/edip/grid_3_45/5000K_8x8x8_300ns.log',\n",
       " '/media/benjamin/BenDrive/Nextcloud/Work/W_PhD/W_PhD_Analysis/Simulations/LAMMPS/strain_expansion/edip/grid_3_45/3000K_8x8x8_100ns.log',\n",
       " '/media/benjamin/BenDrive/Nextcloud/Work/W_PhD/W_PhD_Analysis/Simulations/LAMMPS/strain_expansion/edip/grid_3_45/5000K_8x8x8_200ns.log',\n",
       " '/media/benjamin/BenDrive/Nextcloud/Work/W_PhD/W_PhD_Analysis/Simulations/LAMMPS/strain_expansion/edip/grid_3_45/5000K_8x8x8_100ns.log',\n",
       " '/media/benjamin/BenDrive/Nextcloud/Work/W_PhD/W_PhD_Analysis/Simulations/LAMMPS/strain_expansion/edip/grid_3_45/3000K_8x8x8_200ns.log',\n",
       " '/media/benjamin/BenDrive/Nextcloud/Work/W_PhD/W_PhD_Analysis/Simulations/LAMMPS/strain_expansion/edip/grid_3_45/5000K_8x8x8_50ns.log',\n",
       " '/media/benjamin/BenDrive/Nextcloud/Work/W_PhD/W_PhD_Analysis/Simulations/LAMMPS/strain_expansion/edip/grid_3_45/4000K_8x8x8_100ns.log',\n",
       " '/media/benjamin/BenDrive/Nextcloud/Work/W_PhD/W_PhD_Analysis/Simulations/LAMMPS/strain_expansion/edip/grid_3_45/2000K_8x8x8_100ns.log',\n",
       " '/media/benjamin/BenDrive/Nextcloud/Work/W_PhD/W_PhD_Analysis/Simulations/LAMMPS/strain_expansion/edip/grid_3_45/2000K_8x8x8_50ns.log',\n",
       " '/media/benjamin/BenDrive/Nextcloud/Work/W_PhD/W_PhD_Analysis/Simulations/LAMMPS/strain_expansion/edip/grid_3_45/2000K_8x8x8_300ns.log',\n",
       " '/media/benjamin/BenDrive/Nextcloud/Work/W_PhD/W_PhD_Analysis/Simulations/LAMMPS/strain_expansion/edip/grid_3_45/4000K_8x8x8_50ns.log',\n",
       " '/media/benjamin/BenDrive/Nextcloud/Work/W_PhD/W_PhD_Analysis/Simulations/LAMMPS/strain_expansion/edip/grid_3_45/3000K_8x8x8_300ns.log']"
      ]
     },
     "execution_count": 72,
     "metadata": {},
     "output_type": "execute_result"
    }
   ],
   "source": [
    "files"
   ]
  },
  {
   "cell_type": "code",
   "execution_count": null,
   "metadata": {},
   "outputs": [],
   "source": []
  }
 ],
 "metadata": {
  "kernelspec": {
   "display_name": "Python 3.8.10 64-bit",
   "language": "python",
   "name": "python3"
  },
  "language_info": {
   "codemirror_mode": {
    "name": "ipython",
    "version": 3
   },
   "file_extension": ".py",
   "mimetype": "text/x-python",
   "name": "python",
   "nbconvert_exporter": "python",
   "pygments_lexer": "ipython3",
   "version": "3.8.10"
  },
  "orig_nbformat": 4,
  "vscode": {
   "interpreter": {
    "hash": "31f2aee4e71d21fbe5cf8b01ff0e069b9275f58929596ceb00d14d90e3e16cd6"
   }
  }
 },
 "nbformat": 4,
 "nbformat_minor": 2
}
