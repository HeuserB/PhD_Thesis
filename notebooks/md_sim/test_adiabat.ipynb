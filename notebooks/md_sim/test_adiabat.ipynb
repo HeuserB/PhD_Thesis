{
 "cells": [
  {
   "cell_type": "code",
   "execution_count": 1,
   "metadata": {},
   "outputs": [],
   "source": [
    "import numpy as np\n",
    "import sys\n",
    "import matplotlib.pyplot as plt\n",
    "\n",
    "import os\n",
    "\n",
    "def relpath(path):\n",
    "    try:\n",
    "        dirname = os.path.dirname(__file__)\n",
    "    except:\n",
    "        return '/home/benjamin/Nextcloud/Work/W_PhD/W_PhD_Git/PhD_Git/PhD_Thesis/notebooks/md_sim'\n",
    "    return os.path.join(dirname, path)\n",
    "\n",
    "sys.path.append(relpath(\"../../src/md_sim\"))\n",
    "sys.path.append(\"../../src/md_sim\")\n",
    "\n",
    "from load_lammps_log import load_thermo"
   ]
  },
  {
   "cell_type": "code",
   "execution_count": 4,
   "metadata": {},
   "outputs": [],
   "source": [
    "def get_attr(attr, grid, temp, time):\n",
    "    dfs, dt, n_atoms, run_steps = load_thermo(f'/media/benjamin/BenDrive/Nextcloud/Work/W_PhD/W_PhD_Analysis/Simulations/LAMMPS/strain_expansion/edip/grid_{grid}/{temp}K_8x8x8_{time}ns.log')\n",
    "    equilib_df         =   dfs[0].iloc[:]\n",
    "    release_df         =   dfs[1].iloc[:]\n",
    "    return equilib_df['Step'], equilib_df[attr]"
   ]
  },
  {
   "cell_type": "code",
   "execution_count": 5,
   "metadata": {},
   "outputs": [
    {
     "data": {
      "text/plain": [
       "Index(['Step', 'Temp', 'E_pair', 'E_mol', 'TotEng', 'Press'], dtype='object')"
      ]
     },
     "execution_count": 5,
     "metadata": {},
     "output_type": "execute_result"
    }
   ],
   "source": [
    "dfs, dt, n_atoms, run_steps = load_thermo('/media/benjamin/BenDrive/Nextcloud/Work/W_PhD/W_PhD_Analysis/Simulations/LAMMPS/strain_expansion/edip/grid_3_20/4000K_8x8x8_100ns.log')\n",
    "#dfs, dt, n_atoms, run_steps = load_thermo('/home/benjamin/Documents/LAMMPS/strain_expansion/edip/grid_3_25/2000K_8x8x8_100ns.log')\n",
    "dfs[0].keys()"
   ]
  },
  {
   "cell_type": "code",
   "execution_count": null,
   "metadata": {},
   "outputs": [],
   "source": []
  },
  {
   "cell_type": "code",
   "execution_count": 6,
   "metadata": {},
   "outputs": [
    {
     "name": "stdout",
     "output_type": "stream",
     "text": [
      "Grid: 3_20, Temp: 2000 : 148 GPa\n",
      "Grid: 3_20, Temp: 3000 : 171 GPa\n",
      "Grid: 3_20, Temp: 4000 : 194 GPa\n",
      "Grid: 3_20, Temp: 5000 : 219 GPa\n",
      "Grid: 3_25, Temp: 2000 : 113 GPa\n",
      "Grid: 3_25, Temp: 3000 : 129 GPa\n",
      "Grid: 3_25, Temp: 4000 : 148 GPa\n",
      "Grid: 3_25, Temp: 5000 : 171 GPa\n",
      "Grid: 3_30, Temp: 2000 : 83 GPa\n",
      "Grid: 3_30, Temp: 3000 : 96 GPa\n",
      "Grid: 3_30, Temp: 4000 : 112 GPa\n",
      "Grid: 3_30, Temp: 5000 : 135 GPa\n",
      "Grid: 3_35, Temp: 2000 : 58 GPa\n",
      "Grid: 3_35, Temp: 3000 : 71 GPa\n",
      "Grid: 3_35, Temp: 4000 : 85 GPa\n",
      "Grid: 3_35, Temp: 5000 : 106 GPa\n"
     ]
    }
   ],
   "source": [
    "def pressure(grid,temp):\n",
    "    dfs, dt, n_atoms, run_steps = load_thermo(f'/media/benjamin/BenDrive/Nextcloud/Work/W_PhD/W_PhD_Analysis/Simulations/LAMMPS/strain_expansion/edip/grid_{grid}/{temp}K_8x8x8_100ns.log')\n",
    "    equilib_df         =   dfs[0].iloc[:]\n",
    "    release_df         =   dfs[1].iloc[:]\n",
    "    print(f\"Grid: {grid}, Temp: {temp} : {int(np.mean(equilib_df['Press'].values[-200:]*1e-4))} GPa\")\n",
    "\n",
    "pressure(\"3_20\",\"2000\")\n",
    "pressure(\"3_20\",\"3000\")\n",
    "pressure(\"3_20\",\"4000\")\n",
    "pressure(\"3_20\",\"5000\")\n",
    "pressure(\"3_25\",\"2000\")\n",
    "pressure(\"3_25\",\"3000\")\n",
    "pressure(\"3_25\",\"4000\")\n",
    "pressure(\"3_25\",\"5000\")\n",
    "pressure(\"3_30\",\"2000\")\n",
    "pressure(\"3_30\",\"3000\")\n",
    "pressure(\"3_30\",\"4000\")\n",
    "pressure(\"3_30\",\"5000\")\n",
    "pressure(\"3_35\",\"2000\")\n",
    "pressure(\"3_35\",\"3000\")\n",
    "pressure(\"3_35\",\"4000\")\n",
    "pressure(\"3_35\",\"5000\")"
   ]
  },
  {
   "cell_type": "code",
   "execution_count": 38,
   "metadata": {},
   "outputs": [
    {
     "data": {
      "text/plain": [
       "'\\nax3             = ax.twinx()\\nax3.plot(*get_attr(\"Temp\",grid,temperature,\"50\"),label=\"Temp 50ns\")\\nax3.plot(*get_attr(\"Temp\",grid,temperature,\"100\"),label=\"Temp 100ns\")\\nax3.plot(*get_attr(\"Temp\",grid,temperature,\"200\"),label=\"Temp 200ns\")\\n'"
      ]
     },
     "execution_count": 38,
     "metadata": {},
     "output_type": "execute_result"
    },
    {
     "data": {
      "image/png": "[encoded data removed]",
      "text/plain": [
       "<Figure size 720x288 with 2 Axes>"
      ]
     },
     "metadata": {
      "needs_background": "light"
     },
     "output_type": "display_data"
    }
   ],
   "source": [
    "#plt.plot(release_df['Step'],release_df['v_press_GPa'])\n",
    "fig, ax         =   plt.subplots(1,2,figsize=(10,4))\n",
    "temperature     =   \"4000\"\n",
    "grid            =   \"3_20\"\n",
    "\n",
    "'''\n",
    "ax.plot(*get_attr(\"Volume\",grid,temperature,\"50\"),label=\"Volume 50ns\")\n",
    "ax.plot(*get_attr(\"Volume\",grid,temperature,\"100\"),label=\"Volume 100ns\")\n",
    "ax.plot(*get_attr(\"Volume\",grid,temperature,\"200\"),label=\"Volume 200ns\")\n",
    "'''\n",
    "\n",
    "#ax[0].plot(*get_attr(\"Press\",grid,temperature,\"100\")*np.array([[1],[1e-4]]),label=\"Pressure 100ns\")\n",
    "#ax[0].plot(*get_attr(\"Press\",grid,temperature,\"50\")*np.array([[1],[1e-4]]),label=\"Pressure 50ns\")\n",
    "#ax[0].plot(*get_attr(\"Press\",grid,temperature,\"200\")*np.array([[1],[1e-4]]),label=\"Pressure 200ns\")\n",
    "\n",
    "ax[1].plot(*get_attr(\"Temp\",grid,temperature,\"100\"),label=\"Pressure 100ns\")\n",
    "#ax[1].plot(*get_attr(\"Temp\",grid,temperature,\"50\"),label=\"Pressure 50ns\")\n",
    "#ax[1].plot(*get_attr(\"Temp\",grid,temperature,\"200\"),label=\"Pressure 200ns\")\n",
    "\n",
    "ax2                 =   ax[0]\n",
    "step, press         =   get_attr(\"Press\",grid,temperature,\"100\")\n",
    "step, vol           =   get_attr(\"Volume\",grid,temperature,\"100\")\n",
    "step, Etot          =   get_attr(\"TotEng\",grid,temperature,\"100\")\n",
    "press               *=  1e5\n",
    "\n",
    "\n",
    "#step2, vol2           =   get_attr(\"Volume\",grid,temperature,\"200\")\n",
    "ax2.plot(step,Etot,label=\"Cube length\",c=\"k\")\n",
    "#ax2.plot(vol,press,label=\"\",c='b')\n",
    "#ax2.plot(step2,vol2**(1/3)/8,label=\"Cube length 200 ns\",c='k')\n",
    "from lmfit import Model\n",
    "def adiabat(V, k, const):\n",
    "    return const / (V**k)\n",
    "\n",
    "gmodel = Model(adiabat)\n",
    "#result = gmodel.fit(press, V=vol,const=1e20,k=7)\n",
    "\n",
    "#ax2.plot(vol, result.best_fit, '-', label='best fit',color='k')\n",
    "#ax3                 =   ax[1].twinx()\n",
    "#ax3.plot(step,vol**(1/3)/8,label=\"Cube length\",c='k')\n",
    "#ax3.plot(step2,vol2**(1/3)/8,label=\"Cube length 200 ns\",c='k')\n",
    "'''\n",
    "ax3             = ax.twinx()\n",
    "ax3.plot(*get_attr(\"Temp\",grid,temperature,\"50\"),label=\"Temp 50ns\")\n",
    "ax3.plot(*get_attr(\"Temp\",grid,temperature,\"100\"),label=\"Temp 100ns\")\n",
    "ax3.plot(*get_attr(\"Temp\",grid,temperature,\"200\"),label=\"Temp 200ns\")\n",
    "'''\n"
   ]
  },
  {
   "cell_type": "code",
   "execution_count": 34,
   "metadata": {},
   "outputs": [
    {
     "data": {
      "text/html": [
       "<h2> Model</h2> Model(adiabat) <h2>Fit Statistics</h2><table><tr><td>fitting method</td><td>leastsq</td><td></td></tr><tr><td># function evals</td><td>1110</td><td></td></tr><tr><td># data points</td><td>43335</td><td></td></tr><tr><td># variables</td><td>2</td><td></td></tr><tr><td>chi-square</td><td> 1.1423e+23</td><td></td></tr><tr><td>reduced chi-square</td><td> 2.6362e+18</td><td></td></tr><tr><td>Akaike info crit.</td><td> 1838093.42</td><td></td></tr><tr><td>Bayesian info crit.</td><td> 1838110.77</td><td></td></tr></table><h2>Variables</h2><table><tr><th> name </th><th> value </th><th> standard error </th><th> relative error </th><th> initial value </th><th> min </th><th> max </th><th> vary </th></tr><tr><td> k </td><td>  6.99333644 </td><td>  0.00157827 </td><td> (0.02%) </td><td> 2.5 </td><td>        -inf </td><td>         inf </td><td> True </td></tr><tr><td> const </td><td>  6.9290e+40 </td><td>  1.0718e+39 </td><td> (1.55%) </td><td> 1e+20 </td><td>        -inf </td><td>         inf </td><td> True </td></tr></table><h2>Correlations (unreported correlations are < 0.100)</h2><table><tr><td>k</td><td>const</td><td>1.0000</td></tr></table>"
      ],
      "text/plain": [
       "<lmfit.model.ModelResult at 0x7faf12ff7af0>"
      ]
     },
     "execution_count": 34,
     "metadata": {},
     "output_type": "execute_result"
    }
   ],
   "source": [
    "result"
   ]
  },
  {
   "cell_type": "code",
   "execution_count": 34,
   "metadata": {},
   "outputs": [
    {
     "name": "stdout",
     "output_type": "stream",
     "text": [
      "Timestep retreived from read dump. Manually setting to 0.0001 ps\n"
     ]
    },
    {
     "name": "stderr",
     "output_type": "stream",
     "text": [
      "No handles with labels found to put in legend.\n"
     ]
    },
    {
     "data": {
      "text/plain": [
       "<matplotlib.legend.Legend at 0x7f22b91cbb20>"
      ]
     },
     "execution_count": 34,
     "metadata": {},
     "output_type": "execute_result"
    },
    {
     "data": {
      "image/png": "[encoded data removed]",
      "text/plain": [
       "<Figure size 432x288 with 2 Axes>"
      ]
     },
     "metadata": {
      "needs_background": "light"
     },
     "output_type": "display_data"
    }
   ],
   "source": [
    "#plt.plot(release_df['Step'],release_df['v_press_GPa'])\n",
    "dfs, dt, n_atoms, run_steps = load_thermo('/media/benjamin/BenDrive/Nextcloud/Work/W_PhD/W_PhD_Analysis/Simulations/LAMMPS/strain_expansion/edip/grid_3_25/2000K_8x8x8_300ns_restart.log')\n",
    "release_df                  = dfs[0]\n",
    "\n",
    "\n",
    "fig, ax     =   plt.subplots()\n",
    "dE          =   release_df['TotEng'].values[1:] - release_df['TotEng'].values[:-1]\n",
    "\n",
    "ax.plot(release_df['Press'].values[:1200],c='k')\n",
    "\n",
    "\n",
    "ax2         =   ax.twinx()\n",
    "ax.plot(release_df['TotEng'].values[:1200],c='k')\n",
    "ax.legend()\n",
    "#ax2.scatter(release_df['Step'].values[:-1:50],mismatch,c='k')"
   ]
  },
  {
   "cell_type": "code",
   "execution_count": 13,
   "metadata": {},
   "outputs": [
    {
     "data": {
      "text/plain": [
       "0         11.105691\n",
       "1         11.001075\n",
       "2         10.890260\n",
       "3         10.887660\n",
       "4         10.862327\n",
       "           ...     \n",
       "2111     301.019630\n",
       "2112     356.658110\n",
       "2113     424.300020\n",
       "2114    1108.578900\n",
       "2115    8651.889000\n",
       "Name: v_press_GPa, Length: 2116, dtype: float64"
      ]
     },
     "execution_count": 13,
     "metadata": {},
     "output_type": "execute_result"
    }
   ],
   "source": [
    "release_df['v_press_GPa']"
   ]
  },
  {
   "cell_type": "code",
   "execution_count": 16,
   "metadata": {},
   "outputs": [
    {
     "data": {
      "text/plain": [
       "array([21951.294, 21951.373, 21951.451, 21951.53 , 21951.608, 21951.686,\n",
       "       21951.765, 21951.843, 21951.922, 21952.   ])"
      ]
     },
     "execution_count": 16,
     "metadata": {},
     "output_type": "execute_result"
    }
   ],
   "source": [
    "average.shape\n",
    "release_df['Step'].values[:-1:10].shape\n",
    "release_df['Volume'].values[-10:]"
   ]
  },
  {
   "cell_type": "code",
   "execution_count": 17,
   "metadata": {},
   "outputs": [
    {
     "data": {
      "text/plain": [
       "[<matplotlib.lines.Line2D at 0x7f6c41f622e0>]"
      ]
     },
     "execution_count": 17,
     "metadata": {},
     "output_type": "execute_result"
    },
    {
     "data": {
      "image/png": "[encoded data removed]",
      "text/plain": [
       "<Figure size 432x288 with 1 Axes>"
      ]
     },
     "metadata": {
      "needs_background": "light"
     },
     "output_type": "display_data"
    }
   ],
   "source": [
    "plt.plot(release_df['Step'], release_df['v_press_GPa'])"
   ]
  },
  {
   "cell_type": "code",
   "execution_count": 18,
   "metadata": {},
   "outputs": [
    {
     "data": {
      "text/plain": [
       "[<matplotlib.lines.Line2D at 0x7f6c41ef15e0>]"
      ]
     },
     "execution_count": 18,
     "metadata": {},
     "output_type": "execute_result"
    },
    {
     "data": {
      "image/png": "[encoded data removed]",
      "text/plain": [
       "<Figure size 432x288 with 1 Axes>"
      ]
     },
     "metadata": {
      "needs_background": "light"
     },
     "output_type": "display_data"
    }
   ],
   "source": [
    "plt.plot(release_df['Step'], release_df['Temp'])"
   ]
  },
  {
   "cell_type": "code",
   "execution_count": null,
   "metadata": {},
   "outputs": [],
   "source": []
  }
 ],
 "metadata": {
  "kernelspec": {
   "display_name": "Python 3.8.10 64-bit",
   "language": "python",
   "name": "python3"
  },
  "language_info": {
   "codemirror_mode": {
    "name": "ipython",
    "version": 3
   },
   "file_extension": ".py",
   "mimetype": "text/x-python",
   "name": "python",
   "nbconvert_exporter": "python",
   "pygments_lexer": "ipython3",
   "version": "3.8.10"
  },
  "orig_nbformat": 4,
  "vscode": {
   "interpreter": {
    "hash": "31f2aee4e71d21fbe5cf8b01ff0e069b9275f58929596ceb00d14d90e3e16cd6"
   }
  }
 },
 "nbformat": 4,
 "nbformat_minor": 2
}
