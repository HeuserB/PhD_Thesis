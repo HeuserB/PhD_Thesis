{
 "cells": [
  {
   "cell_type": "code",
   "execution_count": 1,
   "metadata": {},
   "outputs": [],
   "source": [
    "import sys\n",
    "import matplotlib.pyplot as plt\n",
    "import numpy as np\n",
    "import re\n",
    "\n",
    "sys.path.append(\"../../src/md_sim\")\n",
    "from load_lammps_log import load_thermo, energy_drift, load_all_runs\n",
    "from structure_analysis import load_hdf"
   ]
  },
  {
   "cell_type": "code",
   "execution_count": 2,
   "metadata": {},
   "outputs": [],
   "source": [
    "run_data                       = load_all_runs(\"/mnt/TOSHIBA_EXT/Nextcloud/Work/W_PhD/W_PhD_Analysis/Simulations/LAMMPS/free_expansion_airebo_m/\")\n",
    "#h5_file                         = \"/mnt/TOSHIBA_EXT/Nextcloud/Work/W_PhD/W_PhD_Analysis/Simulations/LAMMPS/free_expansion_airebo_m/airebo_m.h5\"\n",
    "#metadata_df, run_dic            = load_hdf(h5_file)"
   ]
  },
  {
   "cell_type": "code",
   "execution_count": 7,
   "metadata": {},
   "outputs": [
    {
     "data": {
      "text/plain": [
       "16"
      ]
     },
     "execution_count": 7,
     "metadata": {},
     "output_type": "execute_result"
    }
   ],
   "source": [
    "run_data.loc[0]['cells']"
   ]
  },
  {
   "cell_type": "code",
   "execution_count": 9,
   "metadata": {},
   "outputs": [
    {
     "data": {
      "text/html": [
       "<div>\n",
       "<style scoped>\n",
       "    .dataframe tbody tr th:only-of-type {\n",
       "        vertical-align: middle;\n",
       "    }\n",
       "\n",
       "    .dataframe tbody tr th {\n",
       "        vertical-align: top;\n",
       "    }\n",
       "\n",
       "    .dataframe thead th {\n",
       "        text-align: right;\n",
       "    }\n",
       "</style>\n",
       "<table border=\"1\" class=\"dataframe\">\n",
       "  <thead>\n",
       "    <tr style=\"text-align: right;\">\n",
       "      <th></th>\n",
       "      <th>lattice_constant</th>\n",
       "      <th>temperature</th>\n",
       "      <th>cells</th>\n",
       "      <th>timestep_eq</th>\n",
       "      <th>timestep_ex</th>\n",
       "      <th>drift</th>\n",
       "      <th>n_atoms</th>\n",
       "      <th>dE</th>\n",
       "      <th>dumpfile</th>\n",
       "      <th>run_steps_eq</th>\n",
       "      <th>run_steps_ex</th>\n",
       "    </tr>\n",
       "  </thead>\n",
       "  <tbody>\n",
       "    <tr>\n",
       "      <th>0</th>\n",
       "      <td>3.35</td>\n",
       "      <td>4000</td>\n",
       "      <td>16</td>\n",
       "      <td>1.000000e-16</td>\n",
       "      <td>1.000000e-16</td>\n",
       "      <td>4.778045e+08</td>\n",
       "      <td>32768</td>\n",
       "      <td>-280.950</td>\n",
       "      <td>/mnt/TOSHIBA_EXT/Nextcloud/Work/W_PhD/W_PhD_An...</td>\n",
       "      <td>20000</td>\n",
       "      <td>100000</td>\n",
       "    </tr>\n",
       "    <tr>\n",
       "      <th>1</th>\n",
       "      <td>3.35</td>\n",
       "      <td>1000</td>\n",
       "      <td>8</td>\n",
       "      <td>1.000000e-16</td>\n",
       "      <td>1.000000e-16</td>\n",
       "      <td>-8.037451e+08</td>\n",
       "      <td>4096</td>\n",
       "      <td>39.173</td>\n",
       "      <td>/mnt/TOSHIBA_EXT/Nextcloud/Work/W_PhD/W_PhD_An...</td>\n",
       "      <td>20000</td>\n",
       "      <td>200000</td>\n",
       "    </tr>\n",
       "    <tr>\n",
       "      <th>2</th>\n",
       "      <td>3.35</td>\n",
       "      <td>2000</td>\n",
       "      <td>8</td>\n",
       "      <td>1.000000e-16</td>\n",
       "      <td>1.000000e-16</td>\n",
       "      <td>-2.566599e+09</td>\n",
       "      <td>4096</td>\n",
       "      <td>103.940</td>\n",
       "      <td>/mnt/TOSHIBA_EXT/Nextcloud/Work/W_PhD/W_PhD_An...</td>\n",
       "      <td>20000</td>\n",
       "      <td>200000</td>\n",
       "    </tr>\n",
       "    <tr>\n",
       "      <th>3</th>\n",
       "      <td>3.35</td>\n",
       "      <td>3000</td>\n",
       "      <td>8</td>\n",
       "      <td>1.000000e-16</td>\n",
       "      <td>1.000000e-16</td>\n",
       "      <td>-5.305114e+09</td>\n",
       "      <td>4096</td>\n",
       "      <td>189.290</td>\n",
       "      <td>/mnt/TOSHIBA_EXT/Nextcloud/Work/W_PhD/W_PhD_An...</td>\n",
       "      <td>20000</td>\n",
       "      <td>200000</td>\n",
       "    </tr>\n",
       "    <tr>\n",
       "      <th>4</th>\n",
       "      <td>3.35</td>\n",
       "      <td>4000</td>\n",
       "      <td>8</td>\n",
       "      <td>1.000000e-16</td>\n",
       "      <td>1.000000e-16</td>\n",
       "      <td>-9.692637e+09</td>\n",
       "      <td>4096</td>\n",
       "      <td>280.223</td>\n",
       "      <td>/mnt/TOSHIBA_EXT/Nextcloud/Work/W_PhD/W_PhD_An...</td>\n",
       "      <td>20000</td>\n",
       "      <td>200000</td>\n",
       "    </tr>\n",
       "    <tr>\n",
       "      <th>5</th>\n",
       "      <td>3.35</td>\n",
       "      <td>5000</td>\n",
       "      <td>8</td>\n",
       "      <td>1.000000e-16</td>\n",
       "      <td>1.000000e-16</td>\n",
       "      <td>-8.135242e+09</td>\n",
       "      <td>4096</td>\n",
       "      <td>86.089</td>\n",
       "      <td>/mnt/TOSHIBA_EXT/Nextcloud/Work/W_PhD/W_PhD_An...</td>\n",
       "      <td>20000</td>\n",
       "      <td>150000</td>\n",
       "    </tr>\n",
       "    <tr>\n",
       "      <th>6</th>\n",
       "      <td>3.40</td>\n",
       "      <td>3000</td>\n",
       "      <td>8</td>\n",
       "      <td>1.000000e-16</td>\n",
       "      <td>1.000000e-16</td>\n",
       "      <td>-7.179568e+09</td>\n",
       "      <td>4096</td>\n",
       "      <td>184.999</td>\n",
       "      <td>/mnt/TOSHIBA_EXT/Nextcloud/Work/W_PhD/W_PhD_An...</td>\n",
       "      <td>20000</td>\n",
       "      <td>200000</td>\n",
       "    </tr>\n",
       "    <tr>\n",
       "      <th>7</th>\n",
       "      <td>3.40</td>\n",
       "      <td>2000</td>\n",
       "      <td>8</td>\n",
       "      <td>1.000000e-16</td>\n",
       "      <td>1.000000e-16</td>\n",
       "      <td>-3.063962e+09</td>\n",
       "      <td>4096</td>\n",
       "      <td>105.802</td>\n",
       "      <td>/mnt/TOSHIBA_EXT/Nextcloud/Work/W_PhD/W_PhD_An...</td>\n",
       "      <td>20000</td>\n",
       "      <td>200000</td>\n",
       "    </tr>\n",
       "    <tr>\n",
       "      <th>8</th>\n",
       "      <td>3.40</td>\n",
       "      <td>1000</td>\n",
       "      <td>8</td>\n",
       "      <td>1.000000e-16</td>\n",
       "      <td>1.000000e-16</td>\n",
       "      <td>3.158805e+09</td>\n",
       "      <td>4096</td>\n",
       "      <td>19.961</td>\n",
       "      <td>/mnt/TOSHIBA_EXT/Nextcloud/Work/W_PhD/W_PhD_An...</td>\n",
       "      <td>20000</td>\n",
       "      <td>200000</td>\n",
       "    </tr>\n",
       "    <tr>\n",
       "      <th>9</th>\n",
       "      <td>3.40</td>\n",
       "      <td>4000</td>\n",
       "      <td>8</td>\n",
       "      <td>1.000000e-16</td>\n",
       "      <td>1.000000e-16</td>\n",
       "      <td>-4.482299e+09</td>\n",
       "      <td>4096</td>\n",
       "      <td>71.992</td>\n",
       "      <td>/mnt/TOSHIBA_EXT/Nextcloud/Work/W_PhD/W_PhD_An...</td>\n",
       "      <td>20000</td>\n",
       "      <td>200000</td>\n",
       "    </tr>\n",
       "    <tr>\n",
       "      <th>10</th>\n",
       "      <td>3.40</td>\n",
       "      <td>5000</td>\n",
       "      <td>8</td>\n",
       "      <td>1.000000e-16</td>\n",
       "      <td>1.000000e-16</td>\n",
       "      <td>-1.797954e+10</td>\n",
       "      <td>4096</td>\n",
       "      <td>18.467</td>\n",
       "      <td>/mnt/TOSHIBA_EXT/Nextcloud/Work/W_PhD/W_PhD_An...</td>\n",
       "      <td>20000</td>\n",
       "      <td>150000</td>\n",
       "    </tr>\n",
       "    <tr>\n",
       "      <th>11</th>\n",
       "      <td>3.45</td>\n",
       "      <td>3000</td>\n",
       "      <td>8</td>\n",
       "      <td>1.000000e-16</td>\n",
       "      <td>1.000000e-16</td>\n",
       "      <td>-6.249944e+09</td>\n",
       "      <td>4096</td>\n",
       "      <td>166.910</td>\n",
       "      <td>/mnt/TOSHIBA_EXT/Nextcloud/Work/W_PhD/W_PhD_An...</td>\n",
       "      <td>20000</td>\n",
       "      <td>200000</td>\n",
       "    </tr>\n",
       "    <tr>\n",
       "      <th>12</th>\n",
       "      <td>3.45</td>\n",
       "      <td>2000</td>\n",
       "      <td>8</td>\n",
       "      <td>1.000000e-16</td>\n",
       "      <td>1.000000e-16</td>\n",
       "      <td>-2.550521e+09</td>\n",
       "      <td>4096</td>\n",
       "      <td>98.736</td>\n",
       "      <td>/mnt/TOSHIBA_EXT/Nextcloud/Work/W_PhD/W_PhD_An...</td>\n",
       "      <td>20000</td>\n",
       "      <td>200000</td>\n",
       "    </tr>\n",
       "    <tr>\n",
       "      <th>13</th>\n",
       "      <td>3.45</td>\n",
       "      <td>1000</td>\n",
       "      <td>8</td>\n",
       "      <td>1.000000e-16</td>\n",
       "      <td>1.000000e-16</td>\n",
       "      <td>2.527675e+09</td>\n",
       "      <td>4096</td>\n",
       "      <td>21.616</td>\n",
       "      <td>/mnt/TOSHIBA_EXT/Nextcloud/Work/W_PhD/W_PhD_An...</td>\n",
       "      <td>20000</td>\n",
       "      <td>200000</td>\n",
       "    </tr>\n",
       "    <tr>\n",
       "      <th>14</th>\n",
       "      <td>3.45</td>\n",
       "      <td>4000</td>\n",
       "      <td>8</td>\n",
       "      <td>1.000000e-16</td>\n",
       "      <td>1.000000e-16</td>\n",
       "      <td>-4.079303e+09</td>\n",
       "      <td>4096</td>\n",
       "      <td>78.095</td>\n",
       "      <td>/mnt/TOSHIBA_EXT/Nextcloud/Work/W_PhD/W_PhD_An...</td>\n",
       "      <td>20000</td>\n",
       "      <td>200000</td>\n",
       "    </tr>\n",
       "    <tr>\n",
       "      <th>15</th>\n",
       "      <td>3.45</td>\n",
       "      <td>5000</td>\n",
       "      <td>8</td>\n",
       "      <td>1.000000e-16</td>\n",
       "      <td>1.000000e-16</td>\n",
       "      <td>-1.787461e+10</td>\n",
       "      <td>4096</td>\n",
       "      <td>67.116</td>\n",
       "      <td>/mnt/TOSHIBA_EXT/Nextcloud/Work/W_PhD/W_PhD_An...</td>\n",
       "      <td>20000</td>\n",
       "      <td>150000</td>\n",
       "    </tr>\n",
       "    <tr>\n",
       "      <th>16</th>\n",
       "      <td>3.45</td>\n",
       "      <td>4000</td>\n",
       "      <td>16</td>\n",
       "      <td>1.000000e-16</td>\n",
       "      <td>1.000000e-16</td>\n",
       "      <td>1.446639e+09</td>\n",
       "      <td>32768</td>\n",
       "      <td>-161.020</td>\n",
       "      <td>/mnt/TOSHIBA_EXT/Nextcloud/Work/W_PhD/W_PhD_An...</td>\n",
       "      <td>20000</td>\n",
       "      <td>250000</td>\n",
       "    </tr>\n",
       "    <tr>\n",
       "      <th>17</th>\n",
       "      <td>3.50</td>\n",
       "      <td>3000</td>\n",
       "      <td>8</td>\n",
       "      <td>1.000000e-16</td>\n",
       "      <td>1.000000e-16</td>\n",
       "      <td>-3.388506e+09</td>\n",
       "      <td>4096</td>\n",
       "      <td>146.079</td>\n",
       "      <td>/mnt/TOSHIBA_EXT/Nextcloud/Work/W_PhD/W_PhD_An...</td>\n",
       "      <td>20000</td>\n",
       "      <td>200000</td>\n",
       "    </tr>\n",
       "    <tr>\n",
       "      <th>18</th>\n",
       "      <td>3.50</td>\n",
       "      <td>2000</td>\n",
       "      <td>8</td>\n",
       "      <td>1.000000e-16</td>\n",
       "      <td>1.000000e-16</td>\n",
       "      <td>-3.120870e+09</td>\n",
       "      <td>4096</td>\n",
       "      <td>92.677</td>\n",
       "      <td>/mnt/TOSHIBA_EXT/Nextcloud/Work/W_PhD/W_PhD_An...</td>\n",
       "      <td>20000</td>\n",
       "      <td>200000</td>\n",
       "    </tr>\n",
       "    <tr>\n",
       "      <th>19</th>\n",
       "      <td>3.50</td>\n",
       "      <td>1000</td>\n",
       "      <td>8</td>\n",
       "      <td>1.000000e-16</td>\n",
       "      <td>1.000000e-16</td>\n",
       "      <td>3.457258e+09</td>\n",
       "      <td>4096</td>\n",
       "      <td>18.067</td>\n",
       "      <td>/mnt/TOSHIBA_EXT/Nextcloud/Work/W_PhD/W_PhD_An...</td>\n",
       "      <td>20000</td>\n",
       "      <td>200000</td>\n",
       "    </tr>\n",
       "    <tr>\n",
       "      <th>20</th>\n",
       "      <td>3.50</td>\n",
       "      <td>4000</td>\n",
       "      <td>8</td>\n",
       "      <td>1.000000e-16</td>\n",
       "      <td>1.000000e-16</td>\n",
       "      <td>1.165176e+09</td>\n",
       "      <td>4096</td>\n",
       "      <td>71.539</td>\n",
       "      <td>/mnt/TOSHIBA_EXT/Nextcloud/Work/W_PhD/W_PhD_An...</td>\n",
       "      <td>20000</td>\n",
       "      <td>200000</td>\n",
       "    </tr>\n",
       "    <tr>\n",
       "      <th>21</th>\n",
       "      <td>3.50</td>\n",
       "      <td>5000</td>\n",
       "      <td>8</td>\n",
       "      <td>1.000000e-16</td>\n",
       "      <td>1.000000e-16</td>\n",
       "      <td>-2.863678e+09</td>\n",
       "      <td>4096</td>\n",
       "      <td>54.701</td>\n",
       "      <td>/mnt/TOSHIBA_EXT/Nextcloud/Work/W_PhD/W_PhD_An...</td>\n",
       "      <td>20000</td>\n",
       "      <td>150000</td>\n",
       "    </tr>\n",
       "  </tbody>\n",
       "</table>\n",
       "</div>"
      ],
      "text/plain": [
       "    lattice_constant  temperature  cells   timestep_eq   timestep_ex  \\\n",
       "0               3.35         4000     16  1.000000e-16  1.000000e-16   \n",
       "1               3.35         1000      8  1.000000e-16  1.000000e-16   \n",
       "2               3.35         2000      8  1.000000e-16  1.000000e-16   \n",
       "3               3.35         3000      8  1.000000e-16  1.000000e-16   \n",
       "4               3.35         4000      8  1.000000e-16  1.000000e-16   \n",
       "5               3.35         5000      8  1.000000e-16  1.000000e-16   \n",
       "6               3.40         3000      8  1.000000e-16  1.000000e-16   \n",
       "7               3.40         2000      8  1.000000e-16  1.000000e-16   \n",
       "8               3.40         1000      8  1.000000e-16  1.000000e-16   \n",
       "9               3.40         4000      8  1.000000e-16  1.000000e-16   \n",
       "10              3.40         5000      8  1.000000e-16  1.000000e-16   \n",
       "11              3.45         3000      8  1.000000e-16  1.000000e-16   \n",
       "12              3.45         2000      8  1.000000e-16  1.000000e-16   \n",
       "13              3.45         1000      8  1.000000e-16  1.000000e-16   \n",
       "14              3.45         4000      8  1.000000e-16  1.000000e-16   \n",
       "15              3.45         5000      8  1.000000e-16  1.000000e-16   \n",
       "16              3.45         4000     16  1.000000e-16  1.000000e-16   \n",
       "17              3.50         3000      8  1.000000e-16  1.000000e-16   \n",
       "18              3.50         2000      8  1.000000e-16  1.000000e-16   \n",
       "19              3.50         1000      8  1.000000e-16  1.000000e-16   \n",
       "20              3.50         4000      8  1.000000e-16  1.000000e-16   \n",
       "21              3.50         5000      8  1.000000e-16  1.000000e-16   \n",
       "\n",
       "           drift  n_atoms       dE  \\\n",
       "0   4.778045e+08    32768 -280.950   \n",
       "1  -8.037451e+08     4096   39.173   \n",
       "2  -2.566599e+09     4096  103.940   \n",
       "3  -5.305114e+09     4096  189.290   \n",
       "4  -9.692637e+09     4096  280.223   \n",
       "5  -8.135242e+09     4096   86.089   \n",
       "6  -7.179568e+09     4096  184.999   \n",
       "7  -3.063962e+09     4096  105.802   \n",
       "8   3.158805e+09     4096   19.961   \n",
       "9  -4.482299e+09     4096   71.992   \n",
       "10 -1.797954e+10     4096   18.467   \n",
       "11 -6.249944e+09     4096  166.910   \n",
       "12 -2.550521e+09     4096   98.736   \n",
       "13  2.527675e+09     4096   21.616   \n",
       "14 -4.079303e+09     4096   78.095   \n",
       "15 -1.787461e+10     4096   67.116   \n",
       "16  1.446639e+09    32768 -161.020   \n",
       "17 -3.388506e+09     4096  146.079   \n",
       "18 -3.120870e+09     4096   92.677   \n",
       "19  3.457258e+09     4096   18.067   \n",
       "20  1.165176e+09     4096   71.539   \n",
       "21 -2.863678e+09     4096   54.701   \n",
       "\n",
       "                                             dumpfile  run_steps_eq  \\\n",
       "0   /mnt/TOSHIBA_EXT/Nextcloud/Work/W_PhD/W_PhD_An...         20000   \n",
       "1   /mnt/TOSHIBA_EXT/Nextcloud/Work/W_PhD/W_PhD_An...         20000   \n",
       "2   /mnt/TOSHIBA_EXT/Nextcloud/Work/W_PhD/W_PhD_An...         20000   \n",
       "3   /mnt/TOSHIBA_EXT/Nextcloud/Work/W_PhD/W_PhD_An...         20000   \n",
       "4   /mnt/TOSHIBA_EXT/Nextcloud/Work/W_PhD/W_PhD_An...         20000   \n",
       "5   /mnt/TOSHIBA_EXT/Nextcloud/Work/W_PhD/W_PhD_An...         20000   \n",
       "6   /mnt/TOSHIBA_EXT/Nextcloud/Work/W_PhD/W_PhD_An...         20000   \n",
       "7   /mnt/TOSHIBA_EXT/Nextcloud/Work/W_PhD/W_PhD_An...         20000   \n",
       "8   /mnt/TOSHIBA_EXT/Nextcloud/Work/W_PhD/W_PhD_An...         20000   \n",
       "9   /mnt/TOSHIBA_EXT/Nextcloud/Work/W_PhD/W_PhD_An...         20000   \n",
       "10  /mnt/TOSHIBA_EXT/Nextcloud/Work/W_PhD/W_PhD_An...         20000   \n",
       "11  /mnt/TOSHIBA_EXT/Nextcloud/Work/W_PhD/W_PhD_An...         20000   \n",
       "12  /mnt/TOSHIBA_EXT/Nextcloud/Work/W_PhD/W_PhD_An...         20000   \n",
       "13  /mnt/TOSHIBA_EXT/Nextcloud/Work/W_PhD/W_PhD_An...         20000   \n",
       "14  /mnt/TOSHIBA_EXT/Nextcloud/Work/W_PhD/W_PhD_An...         20000   \n",
       "15  /mnt/TOSHIBA_EXT/Nextcloud/Work/W_PhD/W_PhD_An...         20000   \n",
       "16  /mnt/TOSHIBA_EXT/Nextcloud/Work/W_PhD/W_PhD_An...         20000   \n",
       "17  /mnt/TOSHIBA_EXT/Nextcloud/Work/W_PhD/W_PhD_An...         20000   \n",
       "18  /mnt/TOSHIBA_EXT/Nextcloud/Work/W_PhD/W_PhD_An...         20000   \n",
       "19  /mnt/TOSHIBA_EXT/Nextcloud/Work/W_PhD/W_PhD_An...         20000   \n",
       "20  /mnt/TOSHIBA_EXT/Nextcloud/Work/W_PhD/W_PhD_An...         20000   \n",
       "21  /mnt/TOSHIBA_EXT/Nextcloud/Work/W_PhD/W_PhD_An...         20000   \n",
       "\n",
       "    run_steps_ex  \n",
       "0         100000  \n",
       "1         200000  \n",
       "2         200000  \n",
       "3         200000  \n",
       "4         200000  \n",
       "5         150000  \n",
       "6         200000  \n",
       "7         200000  \n",
       "8         200000  \n",
       "9         200000  \n",
       "10        150000  \n",
       "11        200000  \n",
       "12        200000  \n",
       "13        200000  \n",
       "14        200000  \n",
       "15        150000  \n",
       "16        250000  \n",
       "17        200000  \n",
       "18        200000  \n",
       "19        200000  \n",
       "20        200000  \n",
       "21        150000  "
      ]
     },
     "execution_count": 9,
     "metadata": {},
     "output_type": "execute_result"
    }
   ],
   "source": [
    "sub_df          = run_data.loc[run_data[\"cells\"] == 8]\n",
    "#sub_df.loc[sub_df[\"temperature\"] < 5000]\n",
    "run_data"
   ]
  },
  {
   "cell_type": "code",
   "execution_count": 51,
   "metadata": {},
   "outputs": [
    {
     "data": {
      "text/plain": [
       "array([4095,    1,    0])"
      ]
     },
     "execution_count": 51,
     "metadata": {},
     "output_type": "execute_result"
    }
   ],
   "source": [
    "run_dic['3_35_4000K_8x8x8']['diamond_lattice'][150,1:4]"
   ]
  },
  {
   "cell_type": "code",
   "execution_count": 36,
   "metadata": {},
   "outputs": [
    {
     "data": {
      "text/plain": [
       "16"
      ]
     },
     "execution_count": 36,
     "metadata": {},
     "output_type": "execute_result"
    }
   ],
   "source": [
    "sub_df                  = metadata_df.loc[metadata_df['cells'] == 8]\n",
    "temps                   = [1000,2000,3000,4000]\n",
    "sub_df                  = sub_df[sub_df[\"temperature\"] < 5000]\n",
    "run_keys                = [(re.sub('\\.','_',str(a)) + \"_\" + re.split(\"/\", b)[-1]) for a,b in zip(sub_df['lattice_constant'].values,sub_df['dumpfile'].values)]\n",
    "len(run_keys)\n"
   ]
  },
  {
   "cell_type": "code",
   "execution_count": null,
   "metadata": {},
   "outputs": [],
   "source": []
  },
  {
   "cell_type": "code",
   "execution_count": 59,
   "metadata": {},
   "outputs": [
    {
     "name": "stdout",
     "output_type": "stream",
     "text": [
      "/mnt/TOSHIBA_EXT/Nextcloud/Work/W_PhD/W_PhD_Analysis/Simulations/LAMMPS/free_expansion_airebo_m/grid_3_35/1000K_8x8x8\n"
     ]
    }
   ],
   "source": [
    "### convert to eV/ps/atom\n",
    "drift                       = np.abs(run_data[\"drift\"].values) * 1e-12\n",
    "np.max(drift) * 1e3\n",
    "print(run_data['dumpfile'][1])\n"
   ]
  },
  {
   "cell_type": "code",
   "execution_count": 4,
   "metadata": {},
   "outputs": [
    {
     "name": "stderr",
     "output_type": "stream",
     "text": [
      "  0%|          | 0/1761 [00:00<?, ?it/s]/home/benjamin/Nextcloud/Work/W_PhD/W_PhD_Git/PhD_Git/PhD_Thesis/notebooks/md_sim/../../src/md_sim/structure_analysis.py:42: RuntimeWarning: invalid value encountered in true_divide\n",
      "  lattice_onions[shell_id]            = lattice_onions[shell_id][:]/np.sum(lattice_onions[shell_id][:])\n",
      "100%|██████████| 1761/1761 [02:02<00:00, 14.40it/s]\n"
     ]
    }
   ],
   "source": [
    "store_as_hdf(run_data['dumpfile'][1],bins=100)"
   ]
  },
  {
   "cell_type": "code",
   "execution_count": 53,
   "metadata": {},
   "outputs": [
    {
     "data": {
      "text/plain": [
       "[<matplotlib.lines.Line2D at 0x7f84e44b7070>]"
      ]
     },
     "execution_count": 53,
     "metadata": {},
     "output_type": "execute_result"
    },
    {
     "data": {
      "image/png": "[encoded data removed]",
      "text/plain": [
       "<Figure size 432x288 with 1 Axes>"
      ]
     },
     "metadata": {
      "needs_background": "light"
     },
     "output_type": "display_data"
    }
   ],
   "source": [
    "plt.plot(diamond_radius[160:])\n"
   ]
  },
  {
   "cell_type": "code",
   "execution_count": 4,
   "metadata": {},
   "outputs": [
    {
     "name": "stderr",
     "output_type": "stream",
     "text": [
      "  0%|          | 0/1761 [00:00<?, ?it/s]/home/benjamin/Nextcloud/Work/W_PhD/W_PhD_Git/PhD_Git/PhD_Thesis/notebooks/md_sim/../../src/md_sim/structure_analysis.py:41: RuntimeWarning: invalid value encountered in true_divide\n",
      "  lattice_onions[shell_id]            = lattice_onions[shell_id][:]/np.sum(lattice_onions[shell_id][:])\n",
      "100%|██████████| 1761/1761 [02:45<00:00, 10.65it/s]\n"
     ]
    }
   ],
   "source": [
    "structure_type, diamond_lattice, rdf_total, \\\n",
    "    diamond_center, diamond_radius, \\\n",
    "        diamond_onion, diamond_onion_outer_r         = diamond_structure(run_data['dumpfile'][1])"
   ]
  },
  {
   "cell_type": "code",
   "execution_count": 13,
   "metadata": {},
   "outputs": [
    {
     "data": {
      "text/plain": [
       "(200,)"
      ]
     },
     "execution_count": 13,
     "metadata": {},
     "output_type": "execute_result"
    }
   ],
   "source": [
    "bins                = 200. \n",
    "r_max               = 20.\n",
    "r_inner             = np.arange(bins) * r_max/bins\n",
    "r_outer             = np.arange(bins) * r_max/bins + r_max/bins\n",
    "r_outer.shape"
   ]
  },
  {
   "cell_type": "code",
   "execution_count": null,
   "metadata": {},
   "outputs": [],
   "source": [
    "lattice_onions_all\n",
    "\n",
    "plt.plot(lattice_onions_all[1,:,3])"
   ]
  },
  {
   "cell_type": "code",
   "execution_count": null,
   "metadata": {},
   "outputs": [],
   "source": [
    "plt.plot(lattice_onions_all[210,:,1])"
   ]
  },
  {
   "cell_type": "code",
   "execution_count": null,
   "metadata": {},
   "outputs": [],
   "source": []
  },
  {
   "cell_type": "code",
   "execution_count": null,
   "metadata": {},
   "outputs": [],
   "source": []
  },
  {
   "cell_type": "code",
   "execution_count": null,
   "metadata": {},
   "outputs": [],
   "source": [
    "dfs, timesteps, n_atoms      = load_thermo(\"/mnt/TOSHIBA_EXT/Nextcloud/Work/W_PhD/W_PhD_Analysis/Simulations/LAMMPS/free_expansion_airebo_m/grid_3_40/1000K_8x8x8.log\")\n",
    "#drift                        = energy_drift(dfs[0], timesteps[0], n_atoms)"
   ]
  },
  {
   "cell_type": "code",
   "execution_count": null,
   "metadata": {},
   "outputs": [],
   "source": [
    "### convert to eV/ps/atom\n",
    "print((np.max(drift) * 1e3))\n",
    "\n",
    "### convert to eV/atom over total time\n",
    "print(np.max(drift) * 1e3 * 2.)"
   ]
  },
  {
   "cell_type": "code",
   "execution_count": null,
   "metadata": {},
   "outputs": [],
   "source": [
    "np.max(np.abs(dfs[0][\"E_pair\"].values[200:]))-np.min(np.abs(dfs[0][\"E_pair\"].values[200:]))"
   ]
  },
  {
   "cell_type": "code",
   "execution_count": null,
   "metadata": {},
   "outputs": [],
   "source": [
    "drift"
   ]
  },
  {
   "cell_type": "code",
   "execution_count": null,
   "metadata": {},
   "outputs": [],
   "source": [
    "0.0001"
   ]
  },
  {
   "cell_type": "code",
   "execution_count": null,
   "metadata": {},
   "outputs": [],
   "source": []
  }
 ],
 "metadata": {
  "interpreter": {
   "hash": "c0d4882b8f296a49246c8ae094e7571aa31785121c8fcf351170cd35e2318312"
  },
  "kernelspec": {
   "display_name": "Python 3.8.10 ('phd_thesis')",
   "language": "python",
   "name": "python3"
  },
  "language_info": {
   "codemirror_mode": {
    "name": "ipython",
    "version": 3
   },
   "file_extension": ".py",
   "mimetype": "text/x-python",
   "name": "python",
   "nbconvert_exporter": "python",
   "pygments_lexer": "ipython3",
   "version": "3.8.10"
  },
  "orig_nbformat": 4
 },
 "nbformat": 4,
 "nbformat_minor": 2
}
