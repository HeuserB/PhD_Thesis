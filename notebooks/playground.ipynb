{
 "cells": [
  {
   "cell_type": "code",
   "execution_count": 1,
   "metadata": {},
   "outputs": [],
   "source": [
    "import numpy as np\n",
    "import matplotlib.pyplot as plt\n",
    "import scipy.constants\n",
    "c_diamond           =   1509 #J/gK"
   ]
  },
  {
   "cell_type": "code",
   "execution_count": 25,
   "metadata": {},
   "outputs": [],
   "source": [
    "def dEdt(T_eq, T, alpha, r):\n",
    "    A       = 4*np.pi*r**2\n",
    "    return A * scipy.constants.sigma * alpha * (T_eq**4 - T**4) # W"
   ]
  },
  {
   "cell_type": "code",
   "execution_count": 26,
   "metadata": {},
   "outputs": [],
   "source": [
    "def dTdt(r,T_eq,T,alpha,rho):\n",
    "    deltaE      = dEdt(T_eq=T_eq, T=T, alpha=alpha, r=r)\n",
    "    m           = rho * 4/3 * np.pi * r**3\n",
    "    deltaT      = deltaE / (m*c_diamond)\n",
    "    return deltaT # K/s"
   ]
  },
  {
   "cell_type": "code",
   "execution_count": 64,
   "metadata": {},
   "outputs": [],
   "source": [
    "T0      = 4000\n",
    "T_eq    = 295\n",
    "r0      = 20E-10\n",
    "rho0    = 3500E3\n",
    "dt      = 1E-14"
   ]
  },
  {
   "cell_type": "code",
   "execution_count": 71,
   "metadata": {},
   "outputs": [],
   "source": [
    "T       = [T0]\n",
    "t       = [0]\n",
    "for i in range(200000):\n",
    "    dT      = dTdt(r0,T_eq,T=T[-1],alpha=0.1,rho=rho0)\n",
    "    T_new   = T[-1] + dT*dt\n",
    "    t.append(t[-1]+dt)\n",
    "    T.append(T_new)"
   ]
  },
  {
   "cell_type": "code",
   "execution_count": 72,
   "metadata": {},
   "outputs": [
    {
     "data": {
      "text/plain": [
       "[<matplotlib.lines.Line2D at 0x7f28d29b80d0>]"
      ]
     },
     "execution_count": 72,
     "metadata": {},
     "output_type": "execute_result"
    },
    {
     "data": {
      "image/png": "[encoded data removed]",
      "text/plain": [
       "<Figure size 432x288 with 1 Axes>"
      ]
     },
     "metadata": {
      "needs_background": "light"
     },
     "output_type": "display_data"
    }
   ],
   "source": [
    "plt.plot(np.array(t)*1E12,T)"
   ]
  },
  {
   "cell_type": "code",
   "execution_count": null,
   "metadata": {},
   "outputs": [],
   "source": []
  }
 ],
 "metadata": {
  "interpreter": {
   "hash": "c0d4882b8f296a49246c8ae094e7571aa31785121c8fcf351170cd35e2318312"
  },
  "kernelspec": {
   "display_name": "Python 3.8.10 ('phd_thesis')",
   "language": "python",
   "name": "python3"
  },
  "language_info": {
   "codemirror_mode": {
    "name": "ipython",
    "version": 3
   },
   "file_extension": ".py",
   "mimetype": "text/x-python",
   "name": "python",
   "nbconvert_exporter": "python",
   "pygments_lexer": "ipython3",
   "version": "3.8.10"
  },
  "orig_nbformat": 4
 },
 "nbformat": 4,
 "nbformat_minor": 2
}
