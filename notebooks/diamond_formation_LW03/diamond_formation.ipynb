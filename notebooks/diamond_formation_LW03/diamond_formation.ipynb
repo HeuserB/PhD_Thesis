{
 "cells": [
  {
   "cell_type": "code",
   "execution_count": 1,
   "metadata": {},
   "outputs": [],
   "source": [
    "# Set the matplotlib backend and make the plots a bit bigger\n",
    "%matplotlib inline\n",
    "import seaborn as sns\n",
    "import matplotlib\n",
    "matplotlib.rcParams['figure.figsize'] = [8, 6]\n",
    "matplotlib.rc('text', usetex = True)\n",
    "\n",
    "import sys\n",
    "\n",
    "import re\n",
    "from lmfit.models import GaussianModel, PolynomialModel, LorentzianModel, ExponentialModel, LinearModel\n",
    "from lmfit import Parameters, fit_report, minimize, Model\n",
    "from lmfit.model import save_modelresult, load_modelresult\n",
    "\n",
    "import pandas as pd\n",
    "\n",
    "import pyFAI\n",
    "import numpy as np\n",
    "import imageio\n",
    "import matplotlib.pyplot as plt\n",
    "sys.path.append(\"../../src/diamond_analysis\")\n",
    "sys.path.append(\"../../src/xrd\")\n",
    "\n",
    "from load_data import load_tiff, merge_quad23\n",
    "from integrate_quads import integrate1d\n",
    "from combine_quads import merge_four_quads\n",
    "from peak_shapes import *\n",
    "from fit_peaks import fit_diamond, sampleChi2\n",
    "\n",
    "import logging\n",
    "from stipcrawl import setup_logger\n",
    "logger = setup_logger.logger\n",
    "quad_scale = np.loadtxt(\"../../.data_LW03/instprm/quad_scale_LW03.txt\")\n",
    "\n",
    "wavelength = 1.3051 * 10e-10"
   ]
  },
  {
   "cell_type": "markdown",
   "metadata": {},
   "source": [
    "### This notebook makes use of the pyFAI package to azimuthaly integrate XRD spectra. \n",
    "Documentation of the package can be found [here](https://pyfai.readthedocs.io/en/master/index.html)"
   ]
  },
  {
   "cell_type": "code",
   "execution_count": 2,
   "metadata": {},
   "outputs": [
    {
     "name": "stderr",
     "output_type": "stream",
     "text": [
      "DRM_IOCTL_I915_GEM_APERTURE failed: Invalid argument\n",
      "Assuming 131072kB available aperture size.\n",
      "May lead to reduced performance or incorrect rendering.\n",
      "get chip id failed: -1 [2]\n",
      "param: 4, val: 0\n",
      "DRM_IOCTL_I915_GEM_APERTURE failed: Invalid argument\n",
      "Assuming 131072kB available aperture size.\n",
      "May lead to reduced performance or incorrect rendering.\n",
      "get chip id failed: -1 [2]\n",
      "param: 4, val: 0\n",
      "beignet-opencl-icd: no supported GPU found, this is probably the wrong opencl-icd package for this hardware\n",
      "(If you have multiple ICDs installed and OpenCL works, you can ignore this message)\n"
     ]
    }
   ],
   "source": [
    "# define the data directory\n",
    "dir_data = \"../../.data_LW03\"\n",
    "\n",
    "# the logbook file\n",
    "logbook = \"../../.data_LW03/logbook_LW03_subset.ods\"\n",
    "\n",
    "# the calibration .poni files created by Dioptas\n",
    "poni_file_q0 = \"../../.data_LW03/poni/Quad0_CeO2.poni\"\n",
    "poni_file_q1 = \"../../.data_LW03/poni/Quad1_CeO2.poni\"\n",
    "poni_file_q2 = \"../../.data_LW03/poni/Quad2_CeO2.poni\"\n",
    "poni_file_q3 = \"../../.data_LW03/poni/Quad3_CeO2.poni\"\n",
    "\n",
    "poni_file_q0 = \"../../.data_LW03/poni/Quad0_MS.poni\"\n",
    "poni_file_q1 = \"../../.data_LW03/poni/Quad1_MS.poni\"\n",
    "poni_file_q2 = \"../../.data_LW03/poni/Quad2_MS.poni\"\n",
    "poni_file_q3 = \"../../.data_LW03/poni/Quad3_MS.poni\"\n",
    "\n",
    "# the mask files for the quad detectors\n",
    "mask_q0 = \"../../.data_LW03/mask/Quad0_ext.mask\"\n",
    "mask_q1 = \"../../.data_LW03/mask/Quad1_ext.mask\"\n",
    "mask_q2 = \"../../.data_LW03/mask/Quad2.mask\"\n",
    "mask_q3 = \"../../.data_LW03/mask/Quad3.mask\"\n",
    "\n",
    "# define the pattern for a background file\n",
    "pattern_runs = re.compile(\"r[0-9]*_bkgCorrected\")\n",
    "\n",
    "# define the azimuthal intyegrator objects from pyFAI\n",
    "q0_ai = pyFAI.load(poni_file_q0)\n",
    "q1_ai = pyFAI.load(poni_file_q1)\n",
    "q2_ai = pyFAI.load(poni_file_q2)\n",
    "q3_ai = pyFAI.load(poni_file_q3)\n",
    "\n",
    "# load the masks as np arrays\n",
    "\n",
    "q0_mask = np.array(imageio.imread(mask_q0),dtype=int)\n",
    "q1_mask = np.array(imageio.imread(mask_q1),dtype=int)\n",
    "q2_mask = np.array(imageio.imread(mask_q2),dtype=int)\n",
    "q3_mask = np.array(imageio.imread(mask_q3),dtype=int)\n"
   ]
  },
  {
   "cell_type": "code",
   "execution_count": 3,
   "metadata": {},
   "outputs": [],
   "source": [
    "r182_q0_tiff = load_tiff(182, 0, dir_data)\n",
    "r182_q1_tiff = load_tiff(182, 1, dir_data)\n",
    "r182_q2_tiff = load_tiff(182, 2, dir_data)\n",
    "r182_q3_tiff = load_tiff(182, 3, dir_data)\n",
    "\n",
    "r182_q0_result1d = q0_ai.integrate1d(r182_q0_tiff,\n",
    "                    npt=1000,\n",
    "                    method='csr',\n",
    "                    unit='2th_deg',\n",
    "                    correctSolidAngle=True,\n",
    "                    polarization_factor=0.99,\n",
    "                    mask=q0_mask)\n",
    "\n",
    "r182_q1_result1d = q1_ai.integrate1d(r182_q1_tiff,\n",
    "                    npt=1000,\n",
    "                    method='csr',\n",
    "                    unit='2th_deg',\n",
    "                    correctSolidAngle=True,\n",
    "                    polarization_factor=0.99,\n",
    "                    mask=q1_mask)\n",
    "r182_q2_result1d = q2_ai.integrate1d(r182_q2_tiff,\n",
    "                    npt=1000,\n",
    "                    method='csr',\n",
    "                    unit='2th_deg',\n",
    "                    correctSolidAngle=True,\n",
    "                    polarization_factor=0.99,\n",
    "                    mask=q2_mask)\n",
    "r182_q3_result1d = q3_ai.integrate1d(r182_q3_tiff,\n",
    "                    npt=1000,\n",
    "                    method='csr',\n",
    "                    unit='2th_deg',\n",
    "                    correctSolidAngle=True,\n",
    "                    polarization_factor=-0.99,\n",
    "                    mask=q3_mask)"
   ]
  },
  {
   "cell_type": "code",
   "execution_count": 4,
   "metadata": {},
   "outputs": [],
   "source": [
    "runs = [182,186,188,190,192,289]\n",
    "probing_times = np.array([9.,8.,7.,10.,11.,13.])\n",
    "for run in runs:\n",
    "    merge_quad23(run,dir_data, q2_ai, q3_ai,q2_mask,q3_mask)"
   ]
  },
  {
   "cell_type": "code",
   "execution_count": 5,
   "metadata": {},
   "outputs": [
    {
     "data": {
      "text/plain": [
       "[<matplotlib.lines.Line2D at 0x7fa9c77156d0>]"
      ]
     },
     "execution_count": 5,
     "metadata": {},
     "output_type": "execute_result"
    },
    {
     "data": {
      "image/png": "[encoded data removed]",
      "text/plain": [
       "<Figure size 576x432 with 1 Axes>"
      ]
     },
     "metadata": {
      "needs_background": "light"
     },
     "output_type": "display_data"
    }
   ],
   "source": [
    "plt.plot(r182_q0_result1d[0],r182_q0_result1d[1]*quad_scale[1]/quad_scale[1])\n",
    "plt.plot(r182_q1_result1d[0],r182_q1_result1d[1]*quad_scale[0]/quad_scale[0])\n",
    "plt.plot(r182_q2_result1d[0],r182_q2_result1d[1]*quad_scale[3]/quad_scale[3])\n",
    "plt.plot(r182_q3_result1d[0],r182_q3_result1d[1]*quad_scale[2]/quad_scale[2])"
   ]
  },
  {
   "cell_type": "code",
   "execution_count": 6,
   "metadata": {},
   "outputs": [],
   "source": [
    "run_182 = integrate1d(182,3,dir_data,poni_file_q3,q3_mask)\n",
    "file_name = 'tmp.xy'\n",
    "np.savetxt(file_name,run_182.T)\n",
    "\n",
    "inst_file = '../../.data_LW03/instprm/LW03.instprm'\n",
    "cif_file = '../../.data_LW03/cif/diamond.cif'"
   ]
  },
  {
   "cell_type": "code",
   "execution_count": 7,
   "metadata": {},
   "outputs": [],
   "source": [
    "r182_q2 = np.loadtxt(\"../../.data_LW03/lineouts/r182_Q2.xy\").T\n",
    "r182_q3 = np.loadtxt(\"../../.data_LW03/lineouts/r182_Q3.xy\").T\n",
    "merged_xy = merge_four_quads([np.array(r182_q2_result1d),np.array(r182_q3_result1d)],scale=[quad_scale[2],quad_scale[3]])\n",
    "#merged_xy = merge_four_quads([np.array(r182_q0_result1d),np.array(r182_q1_result1d),np.array(r182_q2_result1d),np.array(r182_q3_result1d)],scale=quad_scale)\n",
    "r182_Q23 = np.loadtxt(\"../../.data_LW03/lineouts/r182_Q23.xy\").T"
   ]
  },
  {
   "cell_type": "code",
   "execution_count": 8,
   "metadata": {},
   "outputs": [],
   "source": [
    "def plotBestFits(runs=[182,186,188,190,192]):\n",
    "    fits            = [[]] * len(runs)\n",
    "    fig             = plt.figure(figsize=(12, 16))\n",
    "    gs              = fig.add_gridspec(len(runs)*3, 2)\n",
    "    probingTime     = {182:9.,186:8.,188:7.,190:10.,192:11.}\n",
    "\n",
    "    for run_id, run in enumerate(runs):\n",
    "        data                = np.loadtxt(f\"../../.data_LW03/lineouts/r{run}_Q23.xy\").T\n",
    "        fits[run_id]        = load_modelresult( f'../../.data_LW03/fits/r{run}__modelresult.sav')\n",
    "        comps = fits[run_id].params\n",
    "        print(comps[\"C111_center\"])\n",
    "\n",
    "        t                   = int(probingTime[run])\n",
    "        t_id                = (int(t-np.min(list(probingTime.values()))))\n",
    "        comps               = fits[run_id].eval_components(x=data[0])\n",
    "        #print(out.params.valuesdict())\n",
    "        ax1                 = fig.add_subplot(gs[t_id*3:t_id*3+2, 0:0+1])\n",
    "\n",
    "        ax1.plot(data[0], data[1],label='XRD data')\n",
    "        #axes[0].plot(data[0], init, '--', label='initial fit')\n",
    "        ax1.plot(data[0], fits[run_id].best_fit, '-', label='best fit')\n",
    "        ax1.set_ylabel(r'$I$ [\\textit{au}]',fontsize=20)\n",
    "        if run_id == len(runs)-1:\n",
    "            ax1.set_xlabel(r'$2\\theta$ [\\textit{deg}]',fontsize=20)\n",
    "        #axes[t_id,0].plot(data[0], comps['bkg_'], '--', label='Background',color='r')\n",
    "        ax1.legend()\n",
    "        ax1.axes.yaxis.set_ticks([])\n",
    "        \n",
    "        ax2                 = fig.add_subplot(gs[t_id*3:t_id*3+3, 1:1+1])\n",
    "        ax2.plot(data[0], data[1])\n",
    "        ax2.plot(data[0], comps['C111_'], '--', label='Peak 111')\n",
    "        ax2.plot(data[0], comps['C220_'], '--', label='Peak 220')\n",
    "        ax2.plot(data[0], comps['bkg_'], '--', label='Background')\n",
    "        ax2.plot(data[0], comps['PET_'], '--', label='PET peak')\n",
    "        ax2.axes.yaxis.set_ticks([])\n",
    "        #axes[1].set_ylabel(r'$I [au]$')\n",
    "        if run_id == len(runs)-1:\n",
    "            ax2.set_xlabel(r'$2\\theta$ [\\textit{deg}]',fontsize=20)\n",
    "        ax2.legend()\n",
    "\n",
    "        ax3                 = fig.add_subplot(gs[t_id*3+2:t_id*3+3, 0:0+1])\n",
    "        residuals           = (fits[run_id].best_fit - data[1])/np.max(data[1])\n",
    "        ax3.plot(data[0],residuals)\n",
    "    fig.savefig(f'../../.data_LW03/figures/bestFits.svg')\n",
    "    plt.show() \n"
   ]
  },
  {
   "cell_type": "code",
   "execution_count": 9,
   "metadata": {},
   "outputs": [],
   "source": [
    "#init_fits(runs=[192])\n",
    "#sampleChi2(runs=[192],rounds=1)"
   ]
  },
  {
   "cell_type": "code",
   "execution_count": 10,
   "metadata": {},
   "outputs": [],
   "source": [
    "runs            =[182,186,188,190,192]\n",
    "fits            = [load_modelresult( f'../../.data_LW03/fits/r{run}__modelresult.sav') for run in runs]\n",
    "fit = fits[0]"
   ]
  },
  {
   "cell_type": "code",
   "execution_count": 11,
   "metadata": {},
   "outputs": [
    {
     "name": "stdout",
     "output_type": "stream",
     "text": [
      "[[Model]]\n",
      "    Model(linear)\n",
      "[[Fit Statistics]]\n",
      "    # fitting method   = leastsq\n",
      "    # function evals   = 7\n",
      "    # data points      = 2\n",
      "    # variables        = 2\n",
      "    chi-square         = 3.8851e-29\n",
      "    reduced chi-square = 3.8851e-29\n",
      "    Akaike info crit   = -128.221912\n",
      "    Bayesian info crit = -130.835617\n",
      "[[Variables]]\n",
      "    slope:      0.04467204 +/- 2.4361e-15 (0.00%) (init = 1)\n",
      "    intercept: -3.79914084 +/- 8.1970e-15 (0.00%) (init = 0)\n",
      "[[Correlations]] (unreported correlations are < 0.100)\n",
      "    C(slope, intercept) = -0.843\n"
     ]
    },
    {
     "data": {
      "image/png": "[encoded data removed]",
      "text/plain": [
       "<Figure size 576x432 with 1 Axes>"
      ]
     },
     "metadata": {
      "needs_background": "light"
     },
     "output_type": "display_data"
    }
   ],
   "source": [
    "from crystalite_size import crystalite_size\n",
    "\n",
    "crystalite_size(fit,wavelength=wavelength, K=0.8)"
   ]
  },
  {
   "cell_type": "code",
   "execution_count": 16,
   "metadata": {},
   "outputs": [
    {
     "data": {
      "text/plain": [
       "1.3051e-09"
      ]
     },
     "execution_count": 16,
     "metadata": {},
     "output_type": "execute_result"
    }
   ],
   "source": [
    "beta1, beta2                    = np.deg2rad(fit.params[\"C111_sigma\"].value), np.deg2rad(fit.params[\"C220_sigma\"].value)\n",
    "beta1_err, beta2_err            = np.deg2rad(fit.params[\"C111_sigma\"].stderr), np.deg2rad(fit.params[\"C220_sigma\"].stderr)\n",
    "y_values                        = np.array([np.log(beta1),np.log(beta2)])\n",
    "y_err                           = np.array([np.log(beta1_err),np.log(beta2_err)])\n",
    "   \n",
    "theta1, theta2                  = fit.params[\"C111_center\"].value/2., fit.params[\"C220_center\"].value/2.\n",
    "theta1_err, theta2_err          = fit.params[\"C111_center\"].stderr/2., fit.params[\"C220_center\"].stderr/2.\n",
    "x_values                        = np.array([1/np.cos(theta1), 1/np.cos(theta2)])\n",
    "x_err                           = np.array([1/np.cos(theta1_err), 1/np.cos(theta2_err)])\n",
    "\n",
    "    ### using lmfit to fit a linear model to the data points \n",
    "line                            = LinearModel()\n",
    "pars = line.guess(y_values, x=x_values)\n",
    "pars.update(line.make_params())\n",
    "\n",
    "init = line.eval(pars, x=x_values)\n",
    "out = line.fit(y_values, pars, x=x_values)\n",
    "#print(out.fit_report())\n",
    "\n",
    "\n",
    "out.params\n",
    "wavelength"
   ]
  },
  {
   "cell_type": "code",
   "execution_count": null,
   "metadata": {},
   "outputs": [],
   "source": [
    "afa\n",
    "plotBestFits()"
   ]
  },
  {
   "cell_type": "code",
   "execution_count": null,
   "metadata": {},
   "outputs": [],
   "source": [
    "neus_r182           = np.loadtxt(\"../../.data_LW03/VISAR/Visar_v2_r182.txt\")\n",
    "time_r182           = neus_r182[:,0]\n",
    "v2_r182             = neus_r182[:,1]"
   ]
  },
  {
   "cell_type": "code",
   "execution_count": null,
   "metadata": {},
   "outputs": [],
   "source": [
    "def waterfallPlot(runs=[182,186,188,190,192],fig = None, axes = None):\n",
    "    if fig == None:\n",
    "        fig, axes       = plt.subplots(figsize=(8, 7))\n",
    "    probingTime     = {182:9.,186:8.,188:7.,190:10.,192:11.}\n",
    "    fits            = [[]] * len(runs)\n",
    "    colors = ['gold','deepskyblue','deeppink','darkgreen','darkred']\n",
    "    peak_positions, scaled_int  = peaks_from_file('../../.data_LW03/cif/diamond.txt')\n",
    "    axes.axvline(x = peak_positions[0], color = 'k',linestyle='dashed',linewidth=0.9)\n",
    "    axes.axvline(x = peak_positions[3], color = 'k',linestyle='dashed',linewidth=0.9)\n",
    "    #labels = ['7ns','8ns','9ns','10ns','11ns']\n",
    "\n",
    "    for run_id, run in enumerate(runs):\n",
    "        fits[run_id]        = load_modelresult( f'../../.data_LW03/fits/r{run}__modelresult.sav')\n",
    "        \n",
    "\n",
    "        t                   = int(probingTime[run])\n",
    "        t_id                = (int(t-np.min(list(probingTime.values()))))\n",
    "        data                = np.loadtxt(f\"../../.data_LW03/lineouts/r{run}_Q23.xy\").T\n",
    "        comps = fits[run_id].eval_components(x=data[0])\n",
    "\n",
    "        axes.plot(data[0], data[1]/np.max(data[1]) - t_id,color=colors[t_id], label=f'{t} ns')\n",
    "        #axes.plot(data[0], comps['C111_']/np.max(data[1]) - t_id, '--', label='Peak 111',c='r')\n",
    "        #axes.plot(data[0], comps['C220_']/np.max(data[1]) - t_id, '--', label='Peak 220',c='b')\n",
    "        axes.plot(data[0], comps['bkg_']/np.max(data[1]) - t_id, '--',c='r',linewidth=0.9)\n",
    "        #axes.plot(data[0], comps['PET_']/np.max(data[1]) - t_id, '--', label='PET peak',c='grey')\n",
    "        ypos    = (data[1]/np.max(data[1]) - t_id)[-1] + 0.2\n",
    "        xpos    = 70.\n",
    "        axes.text(xpos, ypos, f'{t} ns', horizontalalignment='center',verticalalignment='center',fontsize=22,color=colors[t_id])\n",
    "        \n",
    "    axes.tick_params(left=False, labelleft=False)\n",
    "    axes.set_ylabel(r'$I$ [\\textit{a.u.}]',fontsize=22)\n",
    "    axes.set_xlabel(r'Scattering angle $2\\theta$ [\\textit{deg}]',fontsize=22)\n",
    "    #axes.spines['bottom'].set_color('white')\n",
    "    axes.spines['top'].set_color('white') \n",
    "    axes.spines['right'].set_color('white')\n",
    "    #axes.spines['left'].set_color('white')\n",
    "    axes.xaxis.set_tick_params(labelsize=25)\n",
    "    axes.yaxis.set_tick_params(labelsize=25)\n",
    "    axes.text(peak_positions[0]+0.5, 1.2, f'(111) Peak', horizontalalignment='left',verticalalignment='center',fontsize=20,color='k')\n",
    "    axes.text(peak_positions[3]+0.5, 1.2, f'(200) Peak', horizontalalignment='left',verticalalignment='center',fontsize=20,color='k')\n",
    "    axes.text(27.55-0.2, 1.2, f'Cold\\nPET Peak', horizontalalignment='right',verticalalignment='center',fontsize=20,color='k')\n",
    "    #plt.savefig('../../.data_LW03/figures/waterfall.pdf')\n",
    "    #matplotlib.rcParams['figure.figsize'] = [8, 6]\n",
    "    matplotlib.rc('text', usetex = True)\n",
    "    axes.axvline(x = 27.55,ymin=0.62, color = 'k',linestyle='dashed',linewidth=0.9)\n",
    "\n",
    "    #import tikzplotlib\n",
    "    #tikzplotlib.save('/home/benjamin/Nextcloud/Work/W_PhD/W_PhD_Articles/Heuser_ND_recovery/figures/waterfall.tex')\n",
    "    #tikzplotlib.get_tikz_code(figure='gcf',filepath=\"waterfall.tex\",override_externals=True)#,strict=True,wrap=False)\n",
    "    #matplotlib.rcParams.update(matplotlib.rcParamsDefault)\n",
    "    plt.savefig('/home/benjamin/Nextcloud/Work/W_PhD/W_PhD_Articles/Heuser_ND_recovery/figures/waterfall.pdf')\n",
    "    plt.show()"
   ]
  },
  {
   "cell_type": "code",
   "execution_count": null,
   "metadata": {},
   "outputs": [],
   "source": [
    "visar_path = \"/home/benjamin/Nextcloud/Work/W_PhD/W_PhD_Git/PhD_Git/PhD_Thesis/.data_LW03/VISAR/\""
   ]
  },
  {
   "cell_type": "code",
   "execution_count": null,
   "metadata": {},
   "outputs": [],
   "source": [
    "def load_visar(run : int, visar_path : str, sweep : float) -> [np.array, np.array, np.array, np.array, np.array]:\n",
    "    \"\"\"\n",
    "    :param run:         number of the run to load the VISAR data for\n",
    "    :param visar_path:  path of the location of VISAR raw image and txt data\n",
    "    :param sweep:       sweep time of the streak camera\n",
    "    :return:            V1 the image arrays of the VISAR images\n",
    "    :return:            lineout, time, velocity, vel_err\n",
    "    \"\"\"\n",
    "    file_name_raw = \"r\" + str(run) + \"_V1.tif\"\n",
    "    file_name_txt = \"Visar_v1_r\" + str(run) + \".txt\"\n",
    "    logger.debug(f\"Trying to load raw data at: \\nV1: {visar_path + file_name_raw}\")\n",
    "    try:\n",
    "        V = plt.imread(visar_path + file_name_raw)\n",
    "        logger.info(f\"Loading raw data successful\")\n",
    "    except:\n",
    "        logger.error(f\"Apparently no VISAR raw data in {visar_path + file_name_raw}\")\n",
    "        return None, None\n",
    "    try:\n",
    "        data = np.loadtxt(visar_path + file_name_txt)\n",
    "        logger.info(f\"Loading Neutrino data successful\")\n",
    "    except:\n",
    "        logger.error(f\"Apparently no Neutrino data in {visar_path}\")\n",
    "        return None, None\n",
    "    ### Do the vertical lineouts\n",
    "    lineout = np.sum(V,axis=1)\n",
    "\n",
    "    ### set the time and v/v_err data\n",
    "    time = data[:,0]\n",
    "    velocity = data[:,1]\n",
    "    vel_err = data[:,2]\n",
    "    return V, lineout, time, velocity, vel_err"
   ]
  },
  {
   "cell_type": "code",
   "execution_count": null,
   "metadata": {},
   "outputs": [],
   "source": [
    "logger.setLevel(logging.INFO)\n",
    "V182, LO, t_r182, v_r18, v_err_r1822  = load_visar(182,visar_path,20.)\n",
    "ROI                         = V182[:,550:800]\n",
    "\n",
    "#time = np.linspace(0,20.,len(LO_1))\n",
    "fig                         = plt.figure(figsize=(10,6))\n",
    "gs                          = fig.add_gridspec(1, 6)\n",
    "\n",
    "ax0                         = fig.add_subplot(gs[0:1, 0:5])\n",
    "ax1                         = fig.add_subplot(gs[0:1, 5:6])\n",
    "ax1.imshow(ROI,cmap=\"twilight\")\n",
    "ax1.set_xticks([])\n",
    "ax1.set_yticks([])\n",
    "#axarr[0,1].imshow(V190_2)\n",
    "#axarr[1,0].plot(time, LO_1)\n",
    "#axarr[1,1].plot(time, LO_2)\n",
    "#plt.show()"
   ]
  },
  {
   "cell_type": "code",
   "execution_count": null,
   "metadata": {},
   "outputs": [],
   "source": [
    "r182 =          np.loadtxt(f\"../../.data_LW03/lineouts/r{182}_Q23.xy\").T\n",
    "print(f\"Total angular coverage goes from {r182[0,0]} to {r182[0,-1]}\")\n",
    "atoms_per_uc        = 8.\n",
    "u                   = 1.66053904e-27\n",
    "mass_per_atom       = 12*u*1000\n",
    "mass_per_uc_gramm   = atoms_per_uc * mass_per_atom\n",
    "n                   = 1\n",
    "\n",
    "runs=[182,186,188,190,192]\n",
    "probingTime     = {182:9.,186:8.,188:7.,190:10.,192:11.}\n",
    "\n",
    "for run_id, run in enumerate(runs):\n",
    "    fit         = load_modelresult( f'../../.data_LW03/fits/r{run}__modelresult.sav')\n",
    "    print(fit.best_values[\"C111_center\"])\n",
    "    theta               = fit.best_values[\"C111_center\"]\n",
    "    d                   = n * (wavelength * 10)/ (2*np.sin(np.deg2rad(theta)/2.))\n",
    "    a_cm                = d * np.sqrt(3)\n",
    "    vol_gcc             = a_cm**3\n",
    "    rho                 = mass_per_uc_gramm / vol_gcc\n",
    "    tmp                 = fit.params[\"C111_center\"].stderr\n",
    "    print(f\"Run is: {run}, stderr is: {tmp}\")\n",
    "    #rho_err             = np.sqrt((mass_per_uc_gramm)/((np.sqrt(3)*wavelength*10)**3)\\\n",
    "    #                    *8*3*(np.sin(np.deg2rad(theta)/2.))**2*np.cos(np.deg2rad(theta)/2.)\\\n",
    "    #                    * (fit.params[\"C111_center\"].stderr)**2)\n",
    "    \n",
    "    print(f\"Density at time delay {probingTime[run]} is {rho} +/- {rho_err}\")\n",
    "\n",
    "#rho_C=8*M_C/UC_volume_C"
   ]
  },
  {
   "cell_type": "code",
   "execution_count": null,
   "metadata": {},
   "outputs": [],
   "source": []
  },
  {
   "cell_type": "code",
   "execution_count": null,
   "metadata": {},
   "outputs": [],
   "source": [
    "from scipy.interpolate import interp1d\n",
    "matplotlib.rc('font', weight='bold')\n",
    "\n",
    "fig                         = plt.figure(figsize=(10,7))\n",
    "gs                          = fig.add_gridspec(1, 5)\n",
    "\n",
    "ax0                         = fig.add_subplot(gs[0:1, 0:4])\n",
    "ax1                         = fig.add_subplot(gs[0:1, 4:5])\n",
    "ax1.imshow((ROI),cmap=\"twilight\",interpolation='nearest')\n",
    "ax1.set_xticks([])\n",
    "#line                        = matplotlib.lines.Line2D([0,1],[0,1],marker=\">\")\n",
    "\n",
    "ticksPos                       = np.arange(len(t_r182))\n",
    "### interpolate to map y values postions to the corresponding tick position\n",
    "labelMapper                    = interp1d(t_r182, ticksPos)\n",
    "\n",
    "### get the positions of where we have integer values for the y value\n",
    "tMin, tMax                     = int(t_r182.min()), int(t_r182.max())\n",
    "tickLables                     = np.arange(tMin,tMax+1)\n",
    "\n",
    "#polynomial                     = np.poly1d([-2.,1.52475e-02,9.14541e-06,-5.96076e-09])\n",
    "\n",
    "tickPositions = [labelMapper(y_value) for y_value in tickLables] \n",
    "ax1.set_yticks(tickPositions)\n",
    "ax1.set_yticklabels([f\"${label}$\" for label in tickLables],ha='left')\n",
    "ax1.yaxis.tick_right()\n",
    "colors = ['gold','deepskyblue','deeppink','darkgreen','darkred']\n",
    "\n",
    "for id, time in enumerate([7,8,9,10,11]):\n",
    "        ax1.hlines(y=labelMapper(time), xmin=0, xmax=250, linewidth=2, color=colors[id],linestyle='--')\n",
    "\n",
    "ax1.yaxis.set_tick_params(labelsize=25)\n",
    "matplotlib.rc('text', usetex = True)\n",
    "waterfallPlot(fig=fig,axes=ax0)\n",
    "ax0.set_yticks([])\n",
    "fig.tight_layout()\n",
    "fig.savefig('/home/benjamin/Nextcloud/Work/W_PhD/W_PhD_Articles/Heuser_ND_recovery/figures/waterfall.pdf')"
   ]
  },
  {
   "cell_type": "code",
   "execution_count": null,
   "metadata": {},
   "outputs": [],
   "source": [
    "tMin, tMax                     = int(t_r182.min()), int(t_r182.max())\n",
    "tickLables"
   ]
  },
  {
   "cell_type": "code",
   "execution_count": null,
   "metadata": {},
   "outputs": [],
   "source": [
    "tMax"
   ]
  },
  {
   "cell_type": "code",
   "execution_count": null,
   "metadata": {},
   "outputs": [],
   "source": [
    "plt.plot(ticksPos,t_r182)"
   ]
  },
  {
   "cell_type": "code",
   "execution_count": null,
   "metadata": {},
   "outputs": [],
   "source": [
    "runs                = [182,186,188,190,192,289]\n",
    "d_111_ambient       = 2.04382 \n",
    "d_220_ambient       = 1.25158\n",
    "peak_ratios         = np.zeros(len(runs))\n",
    "d_C111              = np.zeros(len(runs))\n",
    "d_C220              = np.zeros(len(runs))\n",
    "strain_111          = np.zeros(len(runs))\n",
    "strain_220          = np.zeros(len(runs))\n",
    "\n",
    "for run_id, run in enumerate(runs):\n",
    "    result = load_modelresult(f'../../.data_LW03/fits/r{run}__modelresult.sav')\n",
    "    param_dict              = result.params.valuesdict()\n",
    "    peak_ratios[run_id]     = param_dict['C220_amplitude'] / param_dict['C111_amplitude']\n",
    "\n",
    "    d_C111[run_id]          = wavelength / (2. * np.sin( np.deg2rad(param_dict['C111_center'] / 2.)))\n",
    "    d_C220[run_id]          = wavelength / (2. * np.sin( np.deg2rad(param_dict['C220_center'] / 2.)))\n",
    "\n",
    "    strain_111[run_id]      = np.abs(d_111_ambient - d_C111[run_id] * 1e9) / d_111_ambient\n",
    "    strain_220[run_id]      = np.abs(d_220_ambient - d_C220[run_id] * 1e9) / d_220_ambient\n",
    "\n",
    "    #data            = np.loadtxt(f\"../../.data_LW03/lineouts/r{run}_Q23.xy\").T\n",
    "    #fits[run_id]    = fit_diamond(data)\n",
    "    #save_modelresult(fits[run_id], f'../../.data_LW03/fits/r{run}__modelresult.sav')"
   ]
  },
  {
   "cell_type": "code",
   "execution_count": null,
   "metadata": {},
   "outputs": [],
   "source": [
    "d_C111 *1e9"
   ]
  },
  {
   "cell_type": "code",
   "execution_count": null,
   "metadata": {},
   "outputs": [],
   "source": [
    "d_C220 * 1e9"
   ]
  },
  {
   "cell_type": "code",
   "execution_count": null,
   "metadata": {},
   "outputs": [],
   "source": [
    "plt.scatter(probing_times, strain_111, label='Strain 111 peak')\n",
    "plt.scatter(probing_times, strain_220, label='Strain 220 peak')\n",
    "plt.legend()"
   ]
  },
  {
   "cell_type": "code",
   "execution_count": null,
   "metadata": {},
   "outputs": [],
   "source": [
    "peak_positions, scaled_int  = peaks_from_file('../../.data_LW03/cif/diamond.txt')\n",
    "theoretical_int             = scaled_int[1] / scaled_int[0]\n",
    "print(theoretical_int)"
   ]
  },
  {
   "cell_type": "code",
   "execution_count": null,
   "metadata": {},
   "outputs": [],
   "source": [
    "peak_positions"
   ]
  },
  {
   "cell_type": "code",
   "execution_count": null,
   "metadata": {},
   "outputs": [],
   "source": [
    "plt.plot(r182_Q23[0],r182_Q23[1])\n",
    "out, param_dict = fit_double_peak(r182_Q23)\n",
    "print(fit_report(out))\n",
    "plt.plot(r182_Q23[0],lin_gauss_2lorentzian(r182_Q23[0],*list(param_dict.values())))"
   ]
  },
  {
   "cell_type": "code",
   "execution_count": null,
   "metadata": {},
   "outputs": [],
   "source": [
    "param_dict['scale']"
   ]
  },
  {
   "cell_type": "code",
   "execution_count": null,
   "metadata": {},
   "outputs": [],
   "source": [
    "list(param_dict.values())"
   ]
  },
  {
   "cell_type": "code",
   "execution_count": null,
   "metadata": {},
   "outputs": [],
   "source": []
  }
 ],
 "metadata": {
  "interpreter": {
   "hash": "c0d4882b8f296a49246c8ae094e7571aa31785121c8fcf351170cd35e2318312"
  },
  "kernelspec": {
   "display_name": "Python 3.8.10 64-bit ('phd_thesis': virtualenv)",
   "language": "python",
   "name": "python3"
  },
  "language_info": {
   "codemirror_mode": {
    "name": "ipython",
    "version": 3
   },
   "file_extension": ".py",
   "mimetype": "text/x-python",
   "name": "python",
   "nbconvert_exporter": "python",
   "pygments_lexer": "ipython3",
   "version": "3.8.10"
  }
 },
 "nbformat": 4,
 "nbformat_minor": 4
}
