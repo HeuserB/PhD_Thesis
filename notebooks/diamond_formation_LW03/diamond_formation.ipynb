{
 "cells": [
  {
   "cell_type": "code",
   "execution_count": 1,
   "metadata": {},
   "outputs": [],
   "source": [
    "# Set the matplotlib backend and make the plots a bit bigger\n",
    "%matplotlib inline\n",
    "import matplotlib\n",
    "matplotlib.rcParams['figure.figsize'] = [8, 6]\n",
    "\n",
    "import sys\n",
    "#sys.path.insert(0,os.path.expanduser(\"~/g2full/GSASII/\"))\n",
    "#import GSASIIscriptable as G2sc\n",
    "\n",
    "import re\n",
    "from lmfit.models import GaussianModel, PolynomialModel, LorentzianModel, ExponentialModel, LinearModel\n",
    "from lmfit import Parameters, fit_report, minimize, Model\n",
    "from lmfit.model import save_modelresult, load_modelresult\n",
    "\n",
    "import pandas as pd\n",
    "\n",
    "import pyFAI\n",
    "import numpy as np\n",
    "import imageio\n",
    "import matplotlib.pyplot as plt\n",
    "sys.path.append(\"../../src/diamond_analysis\")\n",
    "sys.path.append(\"../../src/xrd\")\n",
    "\n",
    "from load_data import list_runs, load_tiff\n",
    "from integrate_quads import integrate1d, integrate2d\n",
    "from combine_quads import merge_four_quads, peaks_from_file, combine_patterns\n",
    "from peak_shapes import *\n",
    "quad_scale = np.loadtxt(\"../../.data_LW03/instprm/quad_scale_LW03.txt\")\n",
    "\n",
    "wavelength = 1.3051 * 10e-10"
   ]
  },
  {
   "cell_type": "markdown",
   "metadata": {},
   "source": [
    "### This notebook makes use of the pyFAI package to azimuthaly integrate XRD spectra. \n",
    "Documentation of the package can be found [here](https://pyfai.readthedocs.io/en/master/index.html)"
   ]
  },
  {
   "cell_type": "code",
   "execution_count": 2,
   "metadata": {},
   "outputs": [
    {
     "name": "stderr",
     "output_type": "stream",
     "text": [
      "DRM_IOCTL_I915_GEM_APERTURE failed: Invalid argument\n",
      "Assuming 131072kB available aperture size.\n",
      "May lead to reduced performance or incorrect rendering.\n",
      "get chip id failed: -1 [2]\n",
      "param: 4, val: 0\n",
      "DRM_IOCTL_I915_GEM_APERTURE failed: Invalid argument\n",
      "Assuming 131072kB available aperture size.\n",
      "May lead to reduced performance or incorrect rendering.\n",
      "get chip id failed: -1 [2]\n",
      "param: 4, val: 0\n",
      "beignet-opencl-icd: no supported GPU found, this is probably the wrong opencl-icd package for this hardware\n",
      "(If you have multiple ICDs installed and OpenCL works, you can ignore this message)\n"
     ]
    }
   ],
   "source": [
    "# define the data directory\n",
    "dir_data = \"../../.data_LW03\"\n",
    "\n",
    "# the logbook file\n",
    "logbook = \"../../.data_LW03/logbook_LW03_subset.ods\"\n",
    "\n",
    "# the calibration .poni files created by Dioptas\n",
    "poni_file_q0 = \"../../.data_LW03/poni/Quad0_CeO2.poni\"\n",
    "poni_file_q1 = \"../../.data_LW03/poni/Quad1_CeO2.poni\"\n",
    "poni_file_q2 = \"../../.data_LW03/poni/Quad2_CeO2.poni\"\n",
    "poni_file_q3 = \"../../.data_LW03/poni/Quad3_CeO2.poni\"\n",
    "\n",
    "\n",
    "# the mask files for the quad detectors\n",
    "mask_q0 = \"../../.data_LW03/mask/Quad0_ext.mask\"\n",
    "mask_q1 = \"../../.data_LW03/mask/Quad1_ext.mask\"\n",
    "mask_q2 = \"../../.data_LW03/mask/Quad2.mask\"\n",
    "mask_q3 = \"../../.data_LW03/mask/Quad3.mask\"\n",
    "\n",
    "# define the pattern for a background file\n",
    "pattern_runs = re.compile(\"r[0-9]*_bkgCorrected\")\n",
    "\n",
    "# define the azimuthal intyegrator objects from pyFAI\n",
    "q0_ai = pyFAI.load(poni_file_q0)\n",
    "q1_ai = pyFAI.load(poni_file_q1)\n",
    "q2_ai = pyFAI.load(poni_file_q2)\n",
    "q3_ai = pyFAI.load(poni_file_q3)\n",
    "\n",
    "# load the masks as np arrays\n",
    "\n",
    "q0_mask = np.array(imageio.imread(mask_q0),dtype=int)\n",
    "q1_mask = np.array(imageio.imread(mask_q1),dtype=int)\n",
    "q2_mask = np.array(imageio.imread(mask_q2),dtype=int)\n",
    "q3_mask = np.array(imageio.imread(mask_q3),dtype=int)\n"
   ]
  },
  {
   "cell_type": "code",
   "execution_count": 3,
   "metadata": {},
   "outputs": [],
   "source": [
    "r182_q0_tiff = load_tiff(182, 0, dir_data)\n",
    "r182_q1_tiff = load_tiff(182, 1, dir_data)\n",
    "r182_q2_tiff = load_tiff(182, 2, dir_data)\n",
    "r182_q3_tiff = load_tiff(182, 3, dir_data)\n",
    "\n",
    "r182_q0_result1d = q0_ai.integrate1d(r182_q0_tiff,\n",
    "                    npt=1000,\n",
    "                    method='csr',\n",
    "                    unit='2th_deg',\n",
    "                    correctSolidAngle=True,\n",
    "                    polarization_factor=0.99,\n",
    "                    mask=q0_mask)\n",
    "\n",
    "r182_q1_result1d = q1_ai.integrate1d(r182_q1_tiff,\n",
    "                    npt=1000,\n",
    "                    method='csr',\n",
    "                    unit='2th_deg',\n",
    "                    correctSolidAngle=True,\n",
    "                    polarization_factor=0.99,\n",
    "                    mask=q1_mask)\n",
    "r182_q2_result1d = q2_ai.integrate1d(r182_q2_tiff,\n",
    "                    npt=1000,\n",
    "                    method='csr',\n",
    "                    unit='2th_deg',\n",
    "                    correctSolidAngle=True,\n",
    "                    polarization_factor=0.99,\n",
    "                    mask=q2_mask)\n",
    "r182_q3_result1d = q3_ai.integrate1d(r182_q3_tiff,\n",
    "                    npt=1000,\n",
    "                    method='csr',\n",
    "                    unit='2th_deg',\n",
    "                    correctSolidAngle=True,\n",
    "                    polarization_factor=-0.99,\n",
    "                    mask=q3_mask)"
   ]
  },
  {
   "cell_type": "code",
   "execution_count": 4,
   "metadata": {},
   "outputs": [
    {
     "name": "stdout",
     "output_type": "stream",
     "text": [
      "Shape of quad 0 is (2, 1000)\n",
      "Shape of quad 1 is (2, 1000)\n",
      "Combined data: (2, 1000) tmp: (2, 1000)\n",
      "Quad_A going from : 20.821610141939182 to 60.735491963491135 \n",
      "Quad_B going from : 40.18275183578903 to 71.50936754146035 \n",
      "Shape of quad 0 is (2, 1000)\n",
      "Shape of quad 1 is (2, 1000)\n",
      "Combined data: (2, 1000) tmp: (2, 1000)\n",
      "Quad_A going from : 20.821610141939182 to 60.735491963491135 \n",
      "Quad_B going from : 40.18275183578903 to 71.50936754146035 \n",
      "Shape of quad 0 is (2, 1000)\n",
      "Shape of quad 1 is (2, 1000)\n",
      "Combined data: (2, 1000) tmp: (2, 1000)\n",
      "Quad_A going from : 20.821610141939182 to 60.735491963491135 \n",
      "Quad_B going from : 40.18275183578903 to 71.50936754146035 \n",
      "Shape of quad 0 is (2, 1000)\n",
      "Shape of quad 1 is (2, 1000)\n",
      "Combined data: (2, 1000) tmp: (2, 1000)\n",
      "Quad_A going from : 20.821610141939182 to 60.735491963491135 \n",
      "Quad_B going from : 40.18275183578903 to 71.50936754146035 \n",
      "Shape of quad 0 is (2, 1000)\n",
      "Shape of quad 1 is (2, 1000)\n",
      "Combined data: (2, 1000) tmp: (2, 1000)\n",
      "Quad_A going from : 20.821610141939182 to 60.735491963491135 \n",
      "Quad_B going from : 40.18275183578903 to 71.50936754146035 \n",
      "Shape of quad 0 is (2, 1000)\n",
      "Shape of quad 1 is (2, 1000)\n",
      "Combined data: (2, 1000) tmp: (2, 1000)\n",
      "Quad_A going from : 20.821610141939182 to 60.735491963491135 \n",
      "Quad_B going from : 40.18275183578903 to 71.50936754146035 \n"
     ]
    }
   ],
   "source": [
    "def merge_quad23(run, dir_data, q2_ai, q3_ai,q2_mask,q3_mask):\n",
    "    r_q2_tiff = load_tiff(run, 2, dir_data)\n",
    "    r_q3_tiff = load_tiff(run, 3, dir_data)\n",
    "    r_q2_result1d = q2_ai.integrate1d(r_q2_tiff,\n",
    "                    npt=1000,\n",
    "                    method='csr',\n",
    "                    unit='2th_deg',\n",
    "                    correctSolidAngle=True,\n",
    "                    polarization_factor=0.99,\n",
    "                    mask=q2_mask)\n",
    "    r_q3_result1d = q3_ai.integrate1d(r_q3_tiff,\n",
    "                    npt=1000,\n",
    "                    method='csr',\n",
    "                    unit='2th_deg',\n",
    "                    correctSolidAngle=True,\n",
    "                    polarization_factor=-0.99,\n",
    "                    mask=q3_mask)\n",
    "    #plt.plot(r_q2_result1d[0],r_q2_result1d[1]*quad_scale[3])\n",
    "    #plt.plot(r_q3_result1d[0],r_q3_result1d[1]*quad_scale[2])\n",
    "\n",
    "    merged_xy = merge_four_quads([np.array(r_q2_result1d),np.array(r_q3_result1d)], scale=[quad_scale[3],quad_scale[2]])\n",
    "\n",
    "    #plt.plot(merged_xy[0],merged_xy[1])\n",
    "    #plt.show()\n",
    "    np.savetxt(f\"../../.data_LW03/lineouts/r{run}_Q23.xy\",merged_xy.T)\n",
    "runs = [182,186,188,190,192,289]\n",
    "probing_times = np.array([9.,8.,7.,10.,11.,13.])\n",
    "for run in runs:\n",
    "    merge_quad23(run,dir_data, q2_ai, q3_ai,q2_mask,q3_mask)"
   ]
  },
  {
   "cell_type": "code",
   "execution_count": 11,
   "metadata": {},
   "outputs": [
    {
     "data": {
      "text/plain": [
       "[<matplotlib.lines.Line2D at 0x7f43782e78e0>]"
      ]
     },
     "execution_count": 11,
     "metadata": {},
     "output_type": "execute_result"
    },
    {
     "data": {
      "image/png": "[encoded data removed]",
      "text/plain": [
       "<Figure size 576x432 with 1 Axes>"
      ]
     },
     "metadata": {
      "needs_background": "light"
     },
     "output_type": "display_data"
    }
   ],
   "source": [
    "plt.plot(r182_q0_result1d[0],r182_q0_result1d[1]*quad_scale[1])\n",
    "plt.plot(r182_q1_result1d[0],r182_q1_result1d[1]*quad_scale[0])\n",
    "plt.plot(r182_q2_result1d[0],r182_q2_result1d[1]*quad_scale[3])\n",
    "plt.plot(r182_q3_result1d[0],r182_q3_result1d[1]*quad_scale[2])"
   ]
  },
  {
   "cell_type": "code",
   "execution_count": null,
   "metadata": {},
   "outputs": [],
   "source": [
    "run_182 = integrate1d(182,3,dir_data,poni_file_q3,q3_mask)\n",
    "file_name = 'tmp.xy'\n",
    "np.savetxt(file_name,run_182.T)\n",
    "print(run_182.T)\n",
    "\n",
    "inst_file = '../../.data_LW03/instprm/LW03.instprm'\n",
    "cif_file = '../../.data_LW03/cif/diamond.cif'"
   ]
  },
  {
   "cell_type": "code",
   "execution_count": null,
   "metadata": {},
   "outputs": [],
   "source": [
    "r182_q2 = np.loadtxt(\"../../.data_LW03/lineouts/r182_Q2.xy\").T\n",
    "r182_q3 = np.loadtxt(\"../../.data_LW03/lineouts/r182_Q3.xy\").T\n",
    "merged_xy = merge_four_quads([np.array(r182_q2_result1d),np.array(r182_q3_result1d)],scale=[quad_scale[2],quad_scale[3]])\n",
    "#merged_xy = merge_four_quads([np.array(r182_q0_result1d),np.array(r182_q1_result1d),np.array(r182_q2_result1d),np.array(r182_q3_result1d)],scale=quad_scale)\n",
    "r182_Q23 = np.loadtxt(\"../../.data_LW03/lineouts/r182_Q23.xy\").T"
   ]
  },
  {
   "cell_type": "code",
   "execution_count": null,
   "metadata": {},
   "outputs": [],
   "source": [
    "def residual(pars, x, data=None, eps=None):\n",
    "    # unpack parameters: extract .value attribute for each parameter\n",
    "    parvals     = pars.valuesdict()\n",
    "    slope       = parvals['scale']\n",
    "    intercept   = parvals['intercept']\n",
    "    amp_gauss   = parvals['amp_gauss']\n",
    "    cen_gauss   = parvals['cen_gauss']\n",
    "    wid_gauss   = parvals['wid_gauss']\n",
    "    amp_lor     = parvals['amp_lor'] \n",
    "    cen_lor     = parvals['cen_lor']\n",
    "    wid_lor     = parvals['wid_lor']\n",
    "    amp_lor2    = parvals['amp_lor2']\n",
    "    cen_lor2    = parvals['cen_lor2']\n",
    "    wid_lor2    = parvals['wid_lor2']\n",
    "\n",
    "    model = lin_gauss_2lorentzian(x, slope,intercept,amp_gauss, cen_gauss, wid_gauss, amp_lor, cen_lor, wid_lor, amp_lor2, cen_lor2, wid_lor2)\n",
    "\n",
    "    if data is None:\n",
    "        return model\n",
    "    if eps is None:\n",
    "        return (model - data)\n",
    "    return (model-data) / eps"
   ]
  },
  {
   "cell_type": "code",
   "execution_count": null,
   "metadata": {},
   "outputs": [],
   "source": [
    "def fit_double_peak(data):\n",
    "    twoTheta, I = data[0], data[1]\n",
    "    fit_params          = Parameters()\n",
    "    fit_params.add('scale', value=0.01)\n",
    "    fit_params.add('intercept', value=200.)\n",
    "    fit_params.add('amp_gauss', value=1.)\n",
    "    fit_params.add('cen_gauss', value=30.9)\n",
    "    fit_params.add('wid_gauss', value=0.9)\n",
    "    fit_params.add('amp_lor', value=0.9)\n",
    "    fit_params.add('cen_lor', value=37.)\n",
    "    fit_params.add('wid_lor', value=0.9)\n",
    "    fit_params.add('amp_lor2', value=66.)\n",
    "    fit_params.add('cen_lor2', value=0.9)\n",
    "    fit_params.add('wid_lor2', value=0.9)\n",
    "    \n",
    "\n",
    "    out                 = minimize(residual, fit_params, args=(twoTheta,), kws={'data': I});\n",
    "    param_dict          = out.params.valuesdict()\n",
    "    return out, param_dict"
   ]
  },
  {
   "cell_type": "code",
   "execution_count": null,
   "metadata": {},
   "outputs": [],
   "source": [
    "def fit_diamond(data):\n",
    "\n",
    "    background = PolynomialModel(degree=6, prefix='bkg_')\n",
    "    pars = background.guess(data[1], x=data[0])\n",
    "\n",
    "    pars['bkg_c0'].set(value=16799.19664812164)\n",
    "    pars['bkg_c1'].set(value=-2443.7057011741654)\n",
    "    pars['bkg_c2'].set(value=143.47991288976363)\n",
    "    pars['bkg_c3'].set(value=-4.437331503660367)\n",
    "    pars['bkg_c4'].set(value=0.06406413001804905)\n",
    "    pars['bkg_c5'].set(value=-0.0005790101205373556)\n",
    "    pars['bkg_c6'].set(value=1.9176364963173686e-06)\n",
    "\n",
    "    peak1 = LorentzianModel(prefix='C111_')\n",
    "    pars.update(peak1.make_params())\n",
    "\n",
    "    pars['C111_center'].set(value=39, min=30, max=40)\n",
    "    pars['C111_sigma'].set(value=2.22)\n",
    "    pars['C111_amplitude'].set(value=3143.81863)\n",
    "\n",
    "    peak2 = LorentzianModel(prefix='C220_')\n",
    "    pars.update(peak2.make_params())\n",
    "\n",
    "    pars['C220_center'].set(value=63.9, min=60, max=67)\n",
    "    pars['C220_sigma'].set(value=2.5, max=3.7)\n",
    "    pars['C220_amplitude'].set(value=1000, min=0.)\n",
    "\n",
    "    PET_peak = LorentzianModel(prefix='PET_')\n",
    "    pars.update(PET_peak.make_params())\n",
    "\n",
    "    pars['PET_center'].set(value=27, min=25, max=29.)\n",
    "    pars['PET_sigma'].set(value=1.5, max=2.5)\n",
    "    pars['PET_amplitude'].set(value=1000, min=0.)\n",
    "\n",
    "    model = peak1 + peak2 + background + PET_peak\n",
    "\n",
    "    init = model.eval(pars, x=data[0])\n",
    "    out = model.fit(data[1], pars, x=data[0])\n",
    "\n",
    "    # print(out.fit_report)\n",
    "\n",
    "    fig, axes = plt.subplots(1, 2, figsize=(12.8, 4.8))\n",
    "    axes[0].plot(data[0], data[1],label='XRD data')\n",
    "    #axes[0].plot(data[0], init, '--', label='initial fit')\n",
    "    axes[0].plot(data[0], out.best_fit, '-', label='best fit')\n",
    "    axes[0].set_ylabel(r'$I$')\n",
    "    axes[0].set_xlabel(r'$2\\theta$')\n",
    "    axes[0].legend()\n",
    "\n",
    "    comps = out.eval_components(x=data[0])\n",
    "    print(out.params.valuesdict())\n",
    "\n",
    "    axes[1].plot(data[0], data[1])\n",
    "    axes[1].plot(data[0], comps['C111_'], '--', label='Peak 111')\n",
    "    axes[1].plot(data[0], comps['C220_'], '--', label='Peak 220')\n",
    "    axes[1].plot(data[0], comps['bkg_'], '--', label='Background')\n",
    "    axes[1].plot(data[0], comps['PET_'], '--', label='PET peak')\n",
    "    #axes[1].set_ylabel(r'$I [au]$')\n",
    "    axes[1].set_xlabel(r'$2\\theta$')\n",
    "    axes[1].legend()\n",
    "\n",
    "    plt.show()\n",
    "\n",
    "    return out, fig\n"
   ]
  },
  {
   "cell_type": "code",
   "execution_count": null,
   "metadata": {},
   "outputs": [],
   "source": [
    "runs        = [182,186,188,190,192,289]\n",
    "fits        = [[]] * len(runs)\n",
    "for run_id, run in enumerate(runs):\n",
    "    data                    = np.loadtxt(f\"../../.data_LW03/lineouts/r{run}_Q23.xy\").T\n",
    "    fits[run_id], fig       = fit_diamond(data)\n",
    "    fig.savefig(f'../../.data_LW03/figures/r{run}__fit_plot.svg')\n",
    "    save_modelresult(fits[run_id], f'../../.data_LW03/fits/r{run}__modelresult.sav')"
   ]
  },
  {
   "cell_type": "code",
   "execution_count": null,
   "metadata": {},
   "outputs": [],
   "source": [
    "runs                = [182,186,188,190,192,289]\n",
    "d_111_ambient       = 2.04382 \n",
    "d_220_ambient       = 1.25158\n",
    "peak_ratios         = np.zeros(len(runs))\n",
    "d_C111              = np.zeros(len(runs))\n",
    "d_C220              = np.zeros(len(runs))\n",
    "strain_111          = np.zeros(len(runs))\n",
    "strain_220          = np.zeros(len(runs))\n",
    "\n",
    "for run_id, run in enumerate(runs):\n",
    "    result = load_modelresult(f'../../.data_LW03/fits/r{run}__modelresult.sav')\n",
    "    param_dict              = result.params.valuesdict()\n",
    "    peak_ratios[run_id]     = param_dict['C220_amplitude'] / param_dict['C111_amplitude']\n",
    "\n",
    "    d_C111[run_id]          = wavelength / (2. * np.sin( np.deg2rad(param_dict['C111_center'] / 2.)))\n",
    "    d_C220[run_id]          = wavelength / (2. * np.sin( np.deg2rad(param_dict['C220_center'] / 2.)))\n",
    "\n",
    "    strain_111[run_id]      = np.abs(d_111_ambient - d_C111[run_id] * 1e9) / d_111_ambient\n",
    "    strain_220[run_id]      = np.abs(d_220_ambient - d_C220[run_id] * 1e9) / d_220_ambient\n",
    "\n",
    "    #data            = np.loadtxt(f\"../../.data_LW03/lineouts/r{run}_Q23.xy\").T\n",
    "    #fits[run_id]    = fit_diamond(data)\n",
    "    #save_modelresult(fits[run_id], f'../../.data_LW03/fits/r{run}__modelresult.sav')"
   ]
  },
  {
   "cell_type": "code",
   "execution_count": null,
   "metadata": {},
   "outputs": [],
   "source": [
    "d_C111 *1e9"
   ]
  },
  {
   "cell_type": "code",
   "execution_count": null,
   "metadata": {},
   "outputs": [],
   "source": [
    "d_C220 * 1e9"
   ]
  },
  {
   "cell_type": "code",
   "execution_count": null,
   "metadata": {},
   "outputs": [],
   "source": [
    "plt.scatter(probing_times, strain_111, label='Strain 111 peak')\n",
    "plt.scatter(probing_times, strain_220, label='Strain 220 peak')\n",
    "plt.legend()"
   ]
  },
  {
   "cell_type": "code",
   "execution_count": null,
   "metadata": {},
   "outputs": [],
   "source": [
    "peak_positions, scaled_int  = peaks_from_file('../../.data_LW03/cif/diamond.txt')\n",
    "theoretical_int             = scaled_int[1] / scaled_int[0]\n",
    "print(theoretical_int)"
   ]
  },
  {
   "cell_type": "code",
   "execution_count": null,
   "metadata": {},
   "outputs": [],
   "source": [
    "plt.plot(r182_Q23[0],r182_Q23[1])\n",
    "out, param_dict = fit_double_peak(r182_Q23)\n",
    "print(fit_report(out))\n",
    "plt.plot(r182_Q23[0],lin_gauss_2lorentzian(r182_Q23[0],*list(param_dict.values())))"
   ]
  },
  {
   "cell_type": "code",
   "execution_count": null,
   "metadata": {},
   "outputs": [],
   "source": [
    "param_dict['scale']"
   ]
  },
  {
   "cell_type": "code",
   "execution_count": null,
   "metadata": {},
   "outputs": [],
   "source": [
    "list(param_dict.values())"
   ]
  },
  {
   "cell_type": "code",
   "execution_count": null,
   "metadata": {},
   "outputs": [],
   "source": []
  }
 ],
 "metadata": {
  "interpreter": {
   "hash": "c0d4882b8f296a49246c8ae094e7571aa31785121c8fcf351170cd35e2318312"
  },
  "kernelspec": {
   "display_name": "Python 3.8.10 64-bit ('phd_thesis': virtualenv)",
   "language": "python",
   "name": "python3"
  },
  "language_info": {
   "codemirror_mode": {
    "name": "ipython",
    "version": 3
   },
   "file_extension": ".py",
   "mimetype": "text/x-python",
   "name": "python",
   "nbconvert_exporter": "python",
   "pygments_lexer": "ipython3",
   "version": "3.8.10"
  }
 },
 "nbformat": 4,
 "nbformat_minor": 4
}
